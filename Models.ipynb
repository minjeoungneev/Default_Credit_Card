{
 "cells": [
  {
   "cell_type": "markdown",
   "metadata": {},
   "source": [
    "#### 1. Import packages"
   ]
  },
  {
   "cell_type": "code",
   "execution_count": 592,
   "metadata": {},
   "outputs": [],
   "source": [
    "import numpy as np\n",
    "import pandas as pd\n",
    "import seaborn as sns\n",
    "import matplotlib.pyplot as plt\n",
    "from sklearn.metrics import classification_report, roc_auc_score\n",
    "from sklearn.preprocessing import StandardScaler\n",
    "from sklearn.model_selection import train_test_split\n",
    "from sklearn.metrics import confusion_matrix\n",
    "import shap\n",
    "from plotnine import *\n",
    "%matplotlib inline"
   ]
  },
  {
   "cell_type": "code",
   "execution_count": 593,
   "metadata": {},
   "outputs": [],
   "source": [
    "df = pd.read_csv('df_clean.csv')"
   ]
  },
  {
   "cell_type": "markdown",
   "metadata": {},
   "source": [
    "#### 2. Feature Engineering"
   ]
  },
  {
   "cell_type": "code",
   "execution_count": 594,
   "metadata": {},
   "outputs": [
    {
     "name": "stdout",
     "output_type": "stream",
     "text": [
      "SEX\n",
      "2    18091\n",
      "1    11874\n",
      "Name: count, dtype: int64\n",
      "MARRIAGE\n",
      "2    15945\n",
      "1    13643\n",
      "3      377\n",
      "Name: count, dtype: int64\n"
     ]
    }
   ],
   "source": [
    "print(df['SEX'].value_counts())\n",
    "print(df['MARRIAGE'].value_counts())"
   ]
  },
  {
   "cell_type": "code",
   "execution_count": 595,
   "metadata": {},
   "outputs": [],
   "source": [
    "df['SEX_MAR'] = 0\n",
    "df.loc[((df['SEX'] == 1) & (df['MARRIAGE'] == 1)), 'SEX_MAR'] = 1 #'Married Man'\n",
    "df.loc[((df['SEX'] == 1) & (df['MARRIAGE'] == 2)), 'SEX_MAR'] = 2 #'Single Man'\n",
    "df.loc[((df['SEX'] == 1) & (df['MARRIAGE'] == 3)), 'SEX_MAR'] = 3 #'Other Man'\n",
    "df.loc[((df['SEX'] == 2) & (df['MARRIAGE'] == 1)), 'SEX_MAR'] = 4 #'Married Woman'\n",
    "df.loc[((df['SEX'] == 2) & (df['MARRIAGE'] == 2)), 'SEX_MAR'] = 5 #'Single Woman'\n",
    "df.loc[((df['SEX'] == 2) & (df['MARRIAGE'] == 3)), 'SEX_MAR'] = 6 #'Other Woman'\n",
    "\n"
   ]
  },
  {
   "cell_type": "code",
   "execution_count": 596,
   "metadata": {},
   "outputs": [
    {
     "data": {
      "text/html": [
       "<div>\n",
       "<style scoped>\n",
       "    .dataframe tbody tr th:only-of-type {\n",
       "        vertical-align: middle;\n",
       "    }\n",
       "\n",
       "    .dataframe tbody tr th {\n",
       "        vertical-align: top;\n",
       "    }\n",
       "\n",
       "    .dataframe thead th {\n",
       "        text-align: right;\n",
       "    }\n",
       "</style>\n",
       "<table border=\"1\" class=\"dataframe\">\n",
       "  <thead>\n",
       "    <tr style=\"text-align: right;\">\n",
       "      <th>Y</th>\n",
       "      <th>0</th>\n",
       "      <th>1</th>\n",
       "      <th>All</th>\n",
       "      <th>% Default</th>\n",
       "    </tr>\n",
       "    <tr>\n",
       "      <th>SEX_MAR</th>\n",
       "      <th></th>\n",
       "      <th></th>\n",
       "      <th></th>\n",
       "      <th></th>\n",
       "    </tr>\n",
       "  </thead>\n",
       "  <tbody>\n",
       "    <tr>\n",
       "      <th>1</th>\n",
       "      <td>3841</td>\n",
       "      <td>1343</td>\n",
       "      <td>5184</td>\n",
       "      <td>25.906636</td>\n",
       "    </tr>\n",
       "    <tr>\n",
       "      <th>2</th>\n",
       "      <td>5061</td>\n",
       "      <td>1484</td>\n",
       "      <td>6545</td>\n",
       "      <td>22.673797</td>\n",
       "    </tr>\n",
       "    <tr>\n",
       "      <th>3</th>\n",
       "      <td>103</td>\n",
       "      <td>42</td>\n",
       "      <td>145</td>\n",
       "      <td>28.965517</td>\n",
       "    </tr>\n",
       "    <tr>\n",
       "      <th>4</th>\n",
       "      <td>6601</td>\n",
       "      <td>1858</td>\n",
       "      <td>8459</td>\n",
       "      <td>21.964771</td>\n",
       "    </tr>\n",
       "    <tr>\n",
       "      <th>5</th>\n",
       "      <td>7544</td>\n",
       "      <td>1856</td>\n",
       "      <td>9400</td>\n",
       "      <td>19.744681</td>\n",
       "    </tr>\n",
       "    <tr>\n",
       "      <th>6</th>\n",
       "      <td>185</td>\n",
       "      <td>47</td>\n",
       "      <td>232</td>\n",
       "      <td>20.258621</td>\n",
       "    </tr>\n",
       "    <tr>\n",
       "      <th>All</th>\n",
       "      <td>23335</td>\n",
       "      <td>6630</td>\n",
       "      <td>29965</td>\n",
       "      <td>22.125813</td>\n",
       "    </tr>\n",
       "  </tbody>\n",
       "</table>\n",
       "</div>"
      ],
      "text/plain": [
       "Y            0     1    All  % Default\n",
       "SEX_MAR                               \n",
       "1         3841  1343   5184  25.906636\n",
       "2         5061  1484   6545  22.673797\n",
       "3          103    42    145  28.965517\n",
       "4         6601  1858   8459  21.964771\n",
       "5         7544  1856   9400  19.744681\n",
       "6          185    47    232  20.258621\n",
       "All      23335  6630  29965  22.125813"
      ]
     },
     "execution_count": 596,
     "metadata": {},
     "output_type": "execute_result"
    }
   ],
   "source": [
    "sex_mar_y_counts = pd.crosstab(df['SEX_MAR'], df['Y'], rownames=['SEX_MAR'], colnames=['Y'], margins=True)\n",
    "sex_mar_y_counts['% Default'] = (sex_mar_y_counts[1]/sex_mar_y_counts['All']) * 100\n",
    "sex_mar_y_counts"
   ]
  },
  {
   "cell_type": "markdown",
   "metadata": {},
   "source": [
    "Married men have higher default % than married women. Each marriage status, men have higher default % as well."
   ]
  },
  {
   "cell_type": "code",
   "execution_count": 597,
   "metadata": {},
   "outputs": [],
   "source": [
    "for i in range(1, 7):\n",
    "    ratio = df[f'PAY_RATIO_{i}'] = (df[f'PAY_AMT{i}'] / df[f'BILL_AMT{i}'])\n",
    "    ratio.replace([np.inf, -np.inf], np.nan, inplace = True)\n",
    "    df[f'PAY_RATIO_{i}'] = ratio.fillna(0)"
   ]
  },
  {
   "cell_type": "code",
   "execution_count": 598,
   "metadata": {},
   "outputs": [],
   "source": [
    "for i in range(1, 7):\n",
    "    util = df[f'CREDIT_UTILIZATION_{i}'] = (df[f'BILL_AMT{i}'] / df[f'LIMIT_BAL'])\n",
    "    util.replace([np.inf, -np.inf], np.nan, inplace = True)\n",
    "    df[f'CREDIT_UTILIZATION_{i}'] = ratio.fillna(0)\n"
   ]
  },
  {
   "cell_type": "markdown",
   "metadata": {},
   "source": [
    "I want to see how much customers spend on average in proportion to their credit limit."
   ]
  },
  {
   "cell_type": "markdown",
   "metadata": {},
   "source": [
    "new balance = previous balance - payment + new charges <br>\n",
    "new charges = previous balance - payment - new balance <br>\n",
    "            = payment - previous balance + new balance <br>\n",
    "            = payment - (previous balance - new balance) <br>"
   ]
  },
  {
   "cell_type": "code",
   "execution_count": 599,
   "metadata": {},
   "outputs": [],
   "source": [
    "df['AVG_EXP_5'] = (df['PAY_5'] - (df['BILL_AMT5'] - df['BILL_AMT6']))/df['LIMIT_BAL'] # Spending in May\n",
    "\n",
    "df['AVG_EXP_4'] = (((df['PAY_4'] - (df['BILL_AMT4'] - df['BILL_AMT5'])) \n",
    "                + (df['PAY_5'] - (df['BILL_AMT5'] - df['BILL_AMT6']))) / 2 )/df['LIMIT_BAL'] # Spending in June\n",
    "\n",
    "df['AVG_EXP_3'] = (((df['PAY_3'] - (df['BILL_AMT3'] - df['BILL_AMT4'])) \n",
    "                + (df['PAY_4'] - (df['BILL_AMT4'] - df['BILL_AMT5'])) \n",
    "                + (df['PAY_5'] - (df['BILL_AMT5'] - df['BILL_AMT6'])))/3)/df['LIMIT_BAL'] # Spending in July\n",
    "\n",
    "df['AVG_EXP_2'] = (((df['PAY_2'] - (df['BILL_AMT2'] - df['BILL_AMT3'])) \n",
    "                + (df['PAY_3'] - (df['BILL_AMT3'] - df['BILL_AMT4'])) \n",
    "                + (df['PAY_4'] - (df['BILL_AMT4'] - df['BILL_AMT5'])) \n",
    "                + (df['PAY_5'] - (df['BILL_AMT5'] - df['BILL_AMT6'])))/4)/df['LIMIT_BAL'] # Spending in August\n",
    "\n",
    "df['AVG_EXP_1'] = (((df['PAY_1'] - (df['BILL_AMT1'] - df['BILL_AMT2']))\n",
    "                + (df['PAY_2'] - (df['BILL_AMT2'] - df['BILL_AMT3'])) \n",
    "                + (df['PAY_3'] - (df['BILL_AMT3'] - df['BILL_AMT4'])) \n",
    "                + (df['PAY_4'] - (df['BILL_AMT4'] - df['BILL_AMT5'])) \n",
    "                + (df['PAY_5'] - (df['BILL_AMT5'] - df['BILL_AMT6'])))/5)/df['LIMIT_BAL'] # Spending in September"
   ]
  },
  {
   "cell_type": "code",
   "execution_count": 600,
   "metadata": {},
   "outputs": [
    {
     "data": {
      "text/html": [
       "<div>\n",
       "<style scoped>\n",
       "    .dataframe tbody tr th:only-of-type {\n",
       "        vertical-align: middle;\n",
       "    }\n",
       "\n",
       "    .dataframe tbody tr th {\n",
       "        vertical-align: top;\n",
       "    }\n",
       "\n",
       "    .dataframe thead th {\n",
       "        text-align: right;\n",
       "    }\n",
       "</style>\n",
       "<table border=\"1\" class=\"dataframe\">\n",
       "  <thead>\n",
       "    <tr style=\"text-align: right;\">\n",
       "      <th></th>\n",
       "      <th>LIMIT_BAL</th>\n",
       "      <th>SEX</th>\n",
       "      <th>EDUCATION</th>\n",
       "      <th>MARRIAGE</th>\n",
       "      <th>AGE</th>\n",
       "      <th>PAY_1</th>\n",
       "      <th>PAY_2</th>\n",
       "      <th>PAY_3</th>\n",
       "      <th>PAY_4</th>\n",
       "      <th>PAY_5</th>\n",
       "      <th>...</th>\n",
       "      <th>CREDIT_UTILIZATION_2</th>\n",
       "      <th>CREDIT_UTILIZATION_3</th>\n",
       "      <th>CREDIT_UTILIZATION_4</th>\n",
       "      <th>CREDIT_UTILIZATION_5</th>\n",
       "      <th>CREDIT_UTILIZATION_6</th>\n",
       "      <th>AVG_EXP_5</th>\n",
       "      <th>AVG_EXP_4</th>\n",
       "      <th>AVG_EXP_3</th>\n",
       "      <th>AVG_EXP_2</th>\n",
       "      <th>AVG_EXP_1</th>\n",
       "    </tr>\n",
       "  </thead>\n",
       "  <tbody>\n",
       "    <tr>\n",
       "      <th>count</th>\n",
       "      <td>29965.000000</td>\n",
       "      <td>29965.000000</td>\n",
       "      <td>29965.000000</td>\n",
       "      <td>29965.000000</td>\n",
       "      <td>29965.000000</td>\n",
       "      <td>29965.000000</td>\n",
       "      <td>29965.000000</td>\n",
       "      <td>29965.000000</td>\n",
       "      <td>29965.000000</td>\n",
       "      <td>29965.000000</td>\n",
       "      <td>...</td>\n",
       "      <td>29965.000000</td>\n",
       "      <td>29965.000000</td>\n",
       "      <td>29965.000000</td>\n",
       "      <td>29965.000000</td>\n",
       "      <td>29965.000000</td>\n",
       "      <td>29965.000000</td>\n",
       "      <td>29965.000000</td>\n",
       "      <td>29965.000000</td>\n",
       "      <td>29965.000000</td>\n",
       "      <td>29965.000000</td>\n",
       "    </tr>\n",
       "    <tr>\n",
       "      <th>mean</th>\n",
       "      <td>167442.005006</td>\n",
       "      <td>1.603738</td>\n",
       "      <td>1.842750</td>\n",
       "      <td>1.557283</td>\n",
       "      <td>35.487969</td>\n",
       "      <td>0.356416</td>\n",
       "      <td>0.320340</td>\n",
       "      <td>0.304288</td>\n",
       "      <td>0.258935</td>\n",
       "      <td>0.221625</td>\n",
       "      <td>...</td>\n",
       "      <td>-0.601042</td>\n",
       "      <td>-0.601042</td>\n",
       "      <td>-0.601042</td>\n",
       "      <td>-0.601042</td>\n",
       "      <td>-0.601042</td>\n",
       "      <td>-0.014535</td>\n",
       "      <td>-0.020477</td>\n",
       "      <td>-0.024558</td>\n",
       "      <td>-0.023157</td>\n",
       "      <td>-0.021055</td>\n",
       "    </tr>\n",
       "    <tr>\n",
       "      <th>std</th>\n",
       "      <td>129760.135222</td>\n",
       "      <td>0.489128</td>\n",
       "      <td>0.744513</td>\n",
       "      <td>0.521431</td>\n",
       "      <td>9.219459</td>\n",
       "      <td>0.760752</td>\n",
       "      <td>0.802064</td>\n",
       "      <td>0.790696</td>\n",
       "      <td>0.761200</td>\n",
       "      <td>0.717768</td>\n",
       "      <td>...</td>\n",
       "      <td>80.629341</td>\n",
       "      <td>80.629341</td>\n",
       "      <td>80.629341</td>\n",
       "      <td>80.629341</td>\n",
       "      <td>80.629341</td>\n",
       "      <td>0.141948</td>\n",
       "      <td>0.099833</td>\n",
       "      <td>0.083920</td>\n",
       "      <td>0.069900</td>\n",
       "      <td>0.060307</td>\n",
       "    </tr>\n",
       "    <tr>\n",
       "      <th>min</th>\n",
       "      <td>10000.000000</td>\n",
       "      <td>1.000000</td>\n",
       "      <td>1.000000</td>\n",
       "      <td>1.000000</td>\n",
       "      <td>21.000000</td>\n",
       "      <td>0.000000</td>\n",
       "      <td>0.000000</td>\n",
       "      <td>0.000000</td>\n",
       "      <td>0.000000</td>\n",
       "      <td>0.000000</td>\n",
       "      <td>...</td>\n",
       "      <td>-11349.571429</td>\n",
       "      <td>-11349.571429</td>\n",
       "      <td>-11349.571429</td>\n",
       "      <td>-11349.571429</td>\n",
       "      <td>-11349.571429</td>\n",
       "      <td>-4.928000</td>\n",
       "      <td>-2.319000</td>\n",
       "      <td>-3.043933</td>\n",
       "      <td>-1.364050</td>\n",
       "      <td>-1.061900</td>\n",
       "    </tr>\n",
       "    <tr>\n",
       "      <th>25%</th>\n",
       "      <td>50000.000000</td>\n",
       "      <td>1.000000</td>\n",
       "      <td>1.000000</td>\n",
       "      <td>1.000000</td>\n",
       "      <td>28.000000</td>\n",
       "      <td>0.000000</td>\n",
       "      <td>0.000000</td>\n",
       "      <td>0.000000</td>\n",
       "      <td>0.000000</td>\n",
       "      <td>0.000000</td>\n",
       "      <td>...</td>\n",
       "      <td>0.000000</td>\n",
       "      <td>0.000000</td>\n",
       "      <td>0.000000</td>\n",
       "      <td>0.000000</td>\n",
       "      <td>0.000000</td>\n",
       "      <td>-0.015100</td>\n",
       "      <td>-0.020391</td>\n",
       "      <td>-0.030473</td>\n",
       "      <td>-0.035388</td>\n",
       "      <td>-0.036360</td>\n",
       "    </tr>\n",
       "    <tr>\n",
       "      <th>50%</th>\n",
       "      <td>140000.000000</td>\n",
       "      <td>2.000000</td>\n",
       "      <td>2.000000</td>\n",
       "      <td>2.000000</td>\n",
       "      <td>34.000000</td>\n",
       "      <td>0.000000</td>\n",
       "      <td>0.000000</td>\n",
       "      <td>0.000000</td>\n",
       "      <td>0.000000</td>\n",
       "      <td>0.000000</td>\n",
       "      <td>...</td>\n",
       "      <td>0.039551</td>\n",
       "      <td>0.039551</td>\n",
       "      <td>0.039551</td>\n",
       "      <td>0.039551</td>\n",
       "      <td>0.039551</td>\n",
       "      <td>0.000000</td>\n",
       "      <td>0.000000</td>\n",
       "      <td>-0.000537</td>\n",
       "      <td>-0.000953</td>\n",
       "      <td>-0.001384</td>\n",
       "    </tr>\n",
       "    <tr>\n",
       "      <th>75%</th>\n",
       "      <td>240000.000000</td>\n",
       "      <td>2.000000</td>\n",
       "      <td>2.000000</td>\n",
       "      <td>2.000000</td>\n",
       "      <td>41.000000</td>\n",
       "      <td>0.000000</td>\n",
       "      <td>0.000000</td>\n",
       "      <td>0.000000</td>\n",
       "      <td>0.000000</td>\n",
       "      <td>0.000000</td>\n",
       "      <td>...</td>\n",
       "      <td>0.146817</td>\n",
       "      <td>0.146817</td>\n",
       "      <td>0.146817</td>\n",
       "      <td>0.146817</td>\n",
       "      <td>0.146817</td>\n",
       "      <td>0.011725</td>\n",
       "      <td>0.008250</td>\n",
       "      <td>0.006362</td>\n",
       "      <td>0.006018</td>\n",
       "      <td>0.005850</td>\n",
       "    </tr>\n",
       "    <tr>\n",
       "      <th>max</th>\n",
       "      <td>1000000.000000</td>\n",
       "      <td>2.000000</td>\n",
       "      <td>4.000000</td>\n",
       "      <td>3.000000</td>\n",
       "      <td>79.000000</td>\n",
       "      <td>8.000000</td>\n",
       "      <td>8.000000</td>\n",
       "      <td>8.000000</td>\n",
       "      <td>8.000000</td>\n",
       "      <td>8.000000</td>\n",
       "      <td>...</td>\n",
       "      <td>2643.330000</td>\n",
       "      <td>2643.330000</td>\n",
       "      <td>2643.330000</td>\n",
       "      <td>2643.330000</td>\n",
       "      <td>2643.330000</td>\n",
       "      <td>2.008971</td>\n",
       "      <td>1.136875</td>\n",
       "      <td>0.634667</td>\n",
       "      <td>0.456825</td>\n",
       "      <td>0.365460</td>\n",
       "    </tr>\n",
       "  </tbody>\n",
       "</table>\n",
       "<p>8 rows × 42 columns</p>\n",
       "</div>"
      ],
      "text/plain": [
       "            LIMIT_BAL           SEX     EDUCATION      MARRIAGE           AGE  \\\n",
       "count    29965.000000  29965.000000  29965.000000  29965.000000  29965.000000   \n",
       "mean    167442.005006      1.603738      1.842750      1.557283     35.487969   \n",
       "std     129760.135222      0.489128      0.744513      0.521431      9.219459   \n",
       "min      10000.000000      1.000000      1.000000      1.000000     21.000000   \n",
       "25%      50000.000000      1.000000      1.000000      1.000000     28.000000   \n",
       "50%     140000.000000      2.000000      2.000000      2.000000     34.000000   \n",
       "75%     240000.000000      2.000000      2.000000      2.000000     41.000000   \n",
       "max    1000000.000000      2.000000      4.000000      3.000000     79.000000   \n",
       "\n",
       "              PAY_1         PAY_2         PAY_3         PAY_4         PAY_5  \\\n",
       "count  29965.000000  29965.000000  29965.000000  29965.000000  29965.000000   \n",
       "mean       0.356416      0.320340      0.304288      0.258935      0.221625   \n",
       "std        0.760752      0.802064      0.790696      0.761200      0.717768   \n",
       "min        0.000000      0.000000      0.000000      0.000000      0.000000   \n",
       "25%        0.000000      0.000000      0.000000      0.000000      0.000000   \n",
       "50%        0.000000      0.000000      0.000000      0.000000      0.000000   \n",
       "75%        0.000000      0.000000      0.000000      0.000000      0.000000   \n",
       "max        8.000000      8.000000      8.000000      8.000000      8.000000   \n",
       "\n",
       "       ...  CREDIT_UTILIZATION_2  CREDIT_UTILIZATION_3  CREDIT_UTILIZATION_4  \\\n",
       "count  ...          29965.000000          29965.000000          29965.000000   \n",
       "mean   ...             -0.601042             -0.601042             -0.601042   \n",
       "std    ...             80.629341             80.629341             80.629341   \n",
       "min    ...         -11349.571429         -11349.571429         -11349.571429   \n",
       "25%    ...              0.000000              0.000000              0.000000   \n",
       "50%    ...              0.039551              0.039551              0.039551   \n",
       "75%    ...              0.146817              0.146817              0.146817   \n",
       "max    ...           2643.330000           2643.330000           2643.330000   \n",
       "\n",
       "       CREDIT_UTILIZATION_5  CREDIT_UTILIZATION_6     AVG_EXP_5     AVG_EXP_4  \\\n",
       "count          29965.000000          29965.000000  29965.000000  29965.000000   \n",
       "mean              -0.601042             -0.601042     -0.014535     -0.020477   \n",
       "std               80.629341             80.629341      0.141948      0.099833   \n",
       "min           -11349.571429         -11349.571429     -4.928000     -2.319000   \n",
       "25%                0.000000              0.000000     -0.015100     -0.020391   \n",
       "50%                0.039551              0.039551      0.000000      0.000000   \n",
       "75%                0.146817              0.146817      0.011725      0.008250   \n",
       "max             2643.330000           2643.330000      2.008971      1.136875   \n",
       "\n",
       "          AVG_EXP_3     AVG_EXP_2     AVG_EXP_1  \n",
       "count  29965.000000  29965.000000  29965.000000  \n",
       "mean      -0.024558     -0.023157     -0.021055  \n",
       "std        0.083920      0.069900      0.060307  \n",
       "min       -3.043933     -1.364050     -1.061900  \n",
       "25%       -0.030473     -0.035388     -0.036360  \n",
       "50%       -0.000537     -0.000953     -0.001384  \n",
       "75%        0.006362      0.006018      0.005850  \n",
       "max        0.634667      0.456825      0.365460  \n",
       "\n",
       "[8 rows x 42 columns]"
      ]
     },
     "execution_count": 600,
     "metadata": {},
     "output_type": "execute_result"
    }
   ],
   "source": [
    "df.describe()"
   ]
  },
  {
   "cell_type": "markdown",
   "metadata": {},
   "source": [
    "New variables, SEX_MAR,PAY_RATIO_i, CREDIT_UTILIZATION_i, AVG_EXP_i are created."
   ]
  },
  {
   "cell_type": "markdown",
   "metadata": {},
   "source": [
    "#### 3. Feature Importance - Random Forest Classifier"
   ]
  },
  {
   "cell_type": "markdown",
   "metadata": {},
   "source": [
    "##### a)Set target variable"
   ]
  },
  {
   "cell_type": "code",
   "execution_count": 601,
   "metadata": {},
   "outputs": [],
   "source": [
    "y = df['Y'].copy()\n",
    "X = df.drop('Y', axis =1 ).copy()"
   ]
  },
  {
   "cell_type": "markdown",
   "metadata": {},
   "source": [
    "##### b)Data split"
   ]
  },
  {
   "cell_type": "code",
   "execution_count": 602,
   "metadata": {},
   "outputs": [],
   "source": [
    "X_train, X_test, y_train, y_test = train_test_split(X, y, train_size = 0.8, random_state = 100, shuffle=True)"
   ]
  },
  {
   "cell_type": "markdown",
   "metadata": {},
   "source": [
    "##### c)Random Forest Classifier for Feature Importance"
   ]
  },
  {
   "cell_type": "code",
   "execution_count": 603,
   "metadata": {},
   "outputs": [],
   "source": [
    "from sklearn.ensemble import RandomForestClassifier\n",
    "\n",
    "rf = RandomForestClassifier(n_estimators=100, random_state=42)\n",
    "rf.fit(X_train, y_train)\n",
    "\n",
    "importances = pd.Series(rf.feature_importances_, index=X.columns).sort_values(ascending=True)\n"
   ]
  },
  {
   "cell_type": "code",
   "execution_count": 604,
   "metadata": {},
   "outputs": [
    {
     "data": {
      "image/png": "[encoded data removed]",
      "text/plain": [
       "<Figure size 800x600 with 1 Axes>"
      ]
     },
     "metadata": {},
     "output_type": "display_data"
    },
    {
     "name": "stdout",
     "output_type": "stream",
     "text": [
      "PAY_1                   0.082196\n",
      "AGE                     0.044233\n",
      "AVG_EXP_1               0.039789\n",
      "LIMIT_BAL               0.038153\n",
      "PAY_2                   0.037109\n",
      "BILL_AMT1               0.032069\n",
      "AVG_EXP_2               0.031191\n",
      "AVG_EXP_3               0.030261\n",
      "PAY_AMT1                0.029286\n",
      "AVG_EXP_5               0.028997\n",
      "AVG_EXP_4               0.028682\n",
      "BILL_AMT2               0.027913\n",
      "PAY_RATIO_1             0.027901\n",
      "BILL_AMT3               0.026670\n",
      "BILL_AMT4               0.026400\n",
      "PAY_AMT2                0.026013\n",
      "PAY_RATIO_2             0.025565\n",
      "BILL_AMT5               0.025459\n",
      "PAY_AMT3                0.025064\n",
      "BILL_AMT6               0.024462\n",
      "PAY_RATIO_3             0.023624\n",
      "PAY_AMT4                0.023163\n",
      "PAY_RATIO_4             0.022126\n",
      "PAY_3                   0.022026\n",
      "PAY_RATIO_5             0.021849\n",
      "PAY_AMT5                0.021629\n",
      "PAY_AMT6                0.020620\n",
      "PAY_4                   0.018970\n",
      "CREDIT_UTILIZATION_6    0.015332\n",
      "PAY_RATIO_6             0.015125\n",
      "CREDIT_UTILIZATION_5    0.014935\n",
      "CREDIT_UTILIZATION_4    0.014574\n",
      "CREDIT_UTILIZATION_1    0.014514\n",
      "CREDIT_UTILIZATION_2    0.014148\n",
      "CREDIT_UTILIZATION_3    0.014138\n",
      "PAY_6                   0.013894\n",
      "SEX_MAR                 0.013236\n",
      "EDUCATION               0.013166\n",
      "PAY_5                   0.012818\n",
      "MARRIAGE                0.007073\n",
      "SEX                     0.005629\n",
      "dtype: float64\n"
     ]
    }
   ],
   "source": [
    "plt.figure(figsize=(8, 6))\n",
    "importances.plot(kind='barh')\n",
    "plt.title(\"Random Forest Feature Importance\")\n",
    "plt.xlabel(\"Importance Score\")\n",
    "plt.tight_layout()\n",
    "plt.show()\n",
    "\n",
    "print(importances.sort_values(ascending=False))"
   ]
  },
  {
   "cell_type": "code",
   "execution_count": 605,
   "metadata": {},
   "outputs": [
    {
     "data": {
      "image/png": "[encoded data removed]",
      "text/plain": [
       "<Figure size 1000x600 with 1 Axes>"
      ]
     },
     "metadata": {},
     "output_type": "display_data"
    }
   ],
   "source": [
    "# Calculate cumulative percentage\n",
    "importances_sorted = importances.sort_values(ascending=False)\n",
    "cumulative_importance = importances_sorted.cumsum() / importances_sorted.sum() * 100\n",
    "\n",
    "# Plot cumulative percentage\n",
    "plt.figure(figsize=(10, 6))\n",
    "plt.plot(cumulative_importance, marker='o', linestyle='-', color='b')\n",
    "plt.title('Cumulative Percentage of Feature Importance')\n",
    "plt.xlabel('Features (sorted by importance)')\n",
    "plt.ylabel('Cumulative Percentage (%)')\n",
    "plt.xticks(ticks=range(len(importances_sorted)), labels=importances_sorted.index, rotation=90)\n",
    "plt.grid()\n",
    "plt.tight_layout()\n",
    "plt.show()"
   ]
  },
  {
   "cell_type": "code",
   "execution_count": 606,
   "metadata": {},
   "outputs": [
    {
     "name": "stdout",
     "output_type": "stream",
     "text": [
      "             PAY_AMT1  PAY_AMT2  PAY_AMT3  PAY_AMT4  PAY_AMT5  PAY_AMT6\n",
      "PAY_RATIO_1 -0.006287 -0.009689 -0.004857 -0.004075 -0.000855 -0.024695\n",
      "PAY_RATIO_2  0.007847 -0.074907  0.004680  0.003244 -0.005459  0.000530\n",
      "PAY_RATIO_3  0.002625  0.003040 -0.042917  0.002302  0.000484  0.001732\n",
      "PAY_RATIO_4  0.004682  0.002444  0.005213  0.013364  0.001178  0.003723\n",
      "PAY_RATIO_5  0.001881  0.008601  0.003438  0.004777  0.001610  0.006370\n",
      "PAY_RATIO_6  0.003928  0.009775 -0.011822 -0.008748  0.004693  0.017924\n"
     ]
    }
   ],
   "source": [
    "pay_ratio_columns = [f'PAY_RATIO_{i}' for i in range(1, 7)]\n",
    "pay_amt_columns = [f'PAY_AMT{i}' for i in range(1, 7)]\n",
    "\n",
    "correlation_matrix = df[pay_ratio_columns + pay_amt_columns].corr()\n",
    "\n",
    "# Extract correlations between PAY_RATIO and PAY_AMT columns\n",
    "correlation = correlation_matrix.loc[pay_ratio_columns, pay_amt_columns]\n",
    "print(correlation)"
   ]
  },
  {
   "cell_type": "code",
   "execution_count": 607,
   "metadata": {},
   "outputs": [
    {
     "data": {
      "image/png": "[encoded data removed]",
      "text/plain": [
       "<Figure size 1200x800 with 2 Axes>"
      ]
     },
     "metadata": {},
     "output_type": "display_data"
    }
   ],
   "source": [
    "plt.figure(figsize=(12, 8))\n",
    "sns.heatmap(correlation_matrix, annot=True, fmt=\".2f\", cmap=\"coolwarm\", cbar=True)\n",
    "plt.title(\"Correlation Matrix Heatmap\")\n",
    "plt.show()"
   ]
  },
  {
   "cell_type": "markdown",
   "metadata": {},
   "source": [
    "Dropping columns: SEX, MARRIAGE, CREDIT_UTILIZATION"
   ]
  },
  {
   "cell_type": "code",
   "execution_count": 608,
   "metadata": {},
   "outputs": [
    {
     "data": {
      "text/plain": [
       "Index(['LIMIT_BAL', 'SEX', 'EDUCATION', 'MARRIAGE', 'AGE', 'PAY_1', 'PAY_2',\n",
       "       'PAY_3', 'PAY_4', 'PAY_5', 'PAY_6', 'BILL_AMT1', 'BILL_AMT2',\n",
       "       'BILL_AMT3', 'BILL_AMT4', 'BILL_AMT5', 'BILL_AMT6', 'PAY_AMT1',\n",
       "       'PAY_AMT2', 'PAY_AMT3', 'PAY_AMT4', 'PAY_AMT5', 'PAY_AMT6', 'Y',\n",
       "       'SEX_MAR', 'PAY_RATIO_1', 'PAY_RATIO_2', 'PAY_RATIO_3', 'PAY_RATIO_4',\n",
       "       'PAY_RATIO_5', 'PAY_RATIO_6', 'CREDIT_UTILIZATION_1',\n",
       "       'CREDIT_UTILIZATION_2', 'CREDIT_UTILIZATION_3', 'CREDIT_UTILIZATION_4',\n",
       "       'CREDIT_UTILIZATION_5', 'CREDIT_UTILIZATION_6', 'AVG_EXP_5',\n",
       "       'AVG_EXP_4', 'AVG_EXP_3', 'AVG_EXP_2', 'AVG_EXP_1'],\n",
       "      dtype='object')"
      ]
     },
     "execution_count": 608,
     "metadata": {},
     "output_type": "execute_result"
    }
   ],
   "source": [
    "df.columns"
   ]
  },
  {
   "cell_type": "code",
   "execution_count": 609,
   "metadata": {},
   "outputs": [
    {
     "data": {
      "text/plain": [
       "(29965, 42)"
      ]
     },
     "execution_count": 609,
     "metadata": {},
     "output_type": "execute_result"
    }
   ],
   "source": [
    "df.shape"
   ]
  },
  {
   "cell_type": "markdown",
   "metadata": {},
   "source": [
    "##### d)Feature Selection"
   ]
  },
  {
   "cell_type": "code",
   "execution_count": 610,
   "metadata": {},
   "outputs": [
    {
     "data": {
      "image/png": "[encoded data removed]",
      "text/plain": [
       "<Figure size 1600x1200 with 2 Axes>"
      ]
     },
     "metadata": {},
     "output_type": "display_data"
    }
   ],
   "source": [
    "features = [\n",
    "    'LIMIT_BAL', 'EDUCATION', 'AGE', 'SEX_MAR',\n",
    "    'PAY_1', 'PAY_2','PAY_3', 'PAY_4', 'PAY_5', 'PAY_6', \n",
    "    'BILL_AMT1', 'BILL_AMT2', 'BILL_AMT3', 'BILL_AMT4', 'BILL_AMT5', 'BILL_AMT6', \n",
    "    'PAY_AMT1','PAY_AMT2', 'PAY_AMT3', 'PAY_AMT4', 'PAY_AMT5', 'PAY_AMT6',\n",
    "    'PAY_RATIO_1', 'PAY_RATIO_2', 'PAY_RATIO_3', 'PAY_RATIO_4', 'PAY_RATIO_5', 'PAY_RATIO_6', \n",
    "    'AVG_EXP_5','AVG_EXP_4', 'AVG_EXP_3', 'AVG_EXP_2', 'AVG_EXP_1','Y'\n",
    "]\n",
    "\n",
    "selected_df = df[features]\n",
    "\n",
    "corr_matrix = selected_df.corr()\n",
    "\n",
    "plt.figure(figsize=(16, 12))\n",
    "sns.heatmap(corr_matrix, cmap='coolwarm', annot=False, fmt='.2f', square=True, linewidths=0.5, vmax=1, vmin=-1)\n",
    "plt.title(\"Correlation Matrix of Selected Features\")\n",
    "plt.show()\n"
   ]
  },
  {
   "cell_type": "code",
   "execution_count": 611,
   "metadata": {},
   "outputs": [
    {
     "data": {
      "text/plain": [
       "(29965, 34)"
      ]
     },
     "execution_count": 611,
     "metadata": {},
     "output_type": "execute_result"
    }
   ],
   "source": [
    "selected_df.shape"
   ]
  },
  {
   "cell_type": "code",
   "execution_count": 612,
   "metadata": {},
   "outputs": [],
   "source": [
    "y = selected_df['Y'].copy()\n",
    "X = selected_df.drop('Y', axis =1 ).copy()"
   ]
  },
  {
   "cell_type": "code",
   "execution_count": 613,
   "metadata": {},
   "outputs": [],
   "source": [
    "X_train, X_test, y_train, y_test = train_test_split(X, y, train_size = 0.8, random_state = 100, shuffle=True)"
   ]
  },
  {
   "cell_type": "code",
   "execution_count": 614,
   "metadata": {},
   "outputs": [
    {
     "data": {
      "text/plain": [
       "(23972, 33)"
      ]
     },
     "execution_count": 614,
     "metadata": {},
     "output_type": "execute_result"
    }
   ],
   "source": [
    "X_train.shape"
   ]
  },
  {
   "cell_type": "code",
   "execution_count": 615,
   "metadata": {},
   "outputs": [
    {
     "data": {
      "text/plain": [
       "(5993, 33)"
      ]
     },
     "execution_count": 615,
     "metadata": {},
     "output_type": "execute_result"
    }
   ],
   "source": [
    "X_test.shape"
   ]
  },
  {
   "cell_type": "markdown",
   "metadata": {},
   "source": [
    "#### 4. Data Preprocessing"
   ]
  },
  {
   "cell_type": "markdown",
   "metadata": {},
   "source": [
    "##### a) Sampling - without sampling technique"
   ]
  },
  {
   "cell_type": "code",
   "execution_count": 616,
   "metadata": {},
   "outputs": [
    {
     "name": "stdout",
     "output_type": "stream",
     "text": [
      "       LIMIT_BAL  EDUCATION  AGE  SEX_MAR  PAY_1  PAY_2  PAY_3  PAY_4  PAY_5  \\\n",
      "7641      150000          1   30        4      1      2      0      0      0   \n",
      "14609     230000          1   34        4      0      0      0      0      0   \n",
      "23282     300000          2   42        4      0      0      0      0      0   \n",
      "21193     250000          2   45        1      0      0      0      0      0   \n",
      "9336       20000          3   50        5      0      0      0      0      0   \n",
      "\n",
      "       PAY_6  ...  PAY_RATIO_3  PAY_RATIO_4  PAY_RATIO_5  PAY_RATIO_6  \\\n",
      "7641       2  ...     0.000048     0.193280     0.000000    72.339080   \n",
      "14609      0  ...     0.586436     0.707653     0.881965     0.521675   \n",
      "23282      0  ...     0.043708     0.030315     0.041732     0.040423   \n",
      "21193      0  ...     0.036210     0.019886     0.040308     0.051593   \n",
      "9336       0  ...     0.054089     0.052140     0.031744     0.015135   \n",
      "\n",
      "       AVG_EXP_5  AVG_EXP_4  AVG_EXP_3  AVG_EXP_2  AVG_EXP_1  Y  \n",
      "7641    0.000000  -0.009683  -0.045009  -0.023265  -0.058828  0  \n",
      "14609   0.022504   0.004983   0.003216   0.006671   0.006782  0  \n",
      "23282   0.021153  -0.082502  -0.055602  -0.036749  -0.022411  0  \n",
      "21193  -0.005204  -0.123618  -0.132425  -0.096526  -0.082589  0  \n",
      "9336    0.005100   0.016075   0.022233   0.030500   0.034720  0  \n",
      "\n",
      "[5 rows x 34 columns]\n",
      "(23972, 34)\n"
     ]
    }
   ],
   "source": [
    "df_normal = X_train.join(y_train)\n",
    "print(df_normal.head())\n",
    "print(df_normal.shape)"
   ]
  },
  {
   "cell_type": "markdown",
   "metadata": {},
   "source": [
    "##### b) Sampling - oversampling minority"
   ]
  },
  {
   "cell_type": "code",
   "execution_count": 617,
   "metadata": {},
   "outputs": [],
   "source": [
    "df_majority = df_normal[df_normal['Y'] == 0]\n",
    "df_minority = df_normal[df_normal['Y'] == 1]"
   ]
  },
  {
   "cell_type": "code",
   "execution_count": 618,
   "metadata": {},
   "outputs": [
    {
     "name": "stdout",
     "output_type": "stream",
     "text": [
      "(18685, 34)\n",
      "(5287, 34)\n"
     ]
    }
   ],
   "source": [
    "print(df_majority.shape)\n",
    "print(df_minority.shape)"
   ]
  },
  {
   "cell_type": "code",
   "execution_count": 619,
   "metadata": {},
   "outputs": [
    {
     "data": {
      "text/plain": [
       "Y\n",
       "0    18685\n",
       "1    18685\n",
       "Name: count, dtype: int64"
      ]
     },
     "execution_count": 619,
     "metadata": {},
     "output_type": "execute_result"
    }
   ],
   "source": [
    "from sklearn.utils import resample\n",
    "\n",
    "df_minority_oversampled = resample(df_minority, replace = True, n_samples = 18685, random_state = 100)\n",
    "\n",
    "df_oversampled = pd.concat([df_majority, df_minority_oversampled])\n",
    "\n",
    "df_oversampled.Y.value_counts()"
   ]
  },
  {
   "cell_type": "markdown",
   "metadata": {},
   "source": [
    "##### c) Sampling - undersampling majority"
   ]
  },
  {
   "cell_type": "code",
   "execution_count": 620,
   "metadata": {},
   "outputs": [
    {
     "data": {
      "text/plain": [
       "Y\n",
       "1    5287\n",
       "0    5287\n",
       "Name: count, dtype: int64"
      ]
     },
     "execution_count": 620,
     "metadata": {},
     "output_type": "execute_result"
    }
   ],
   "source": [
    "df_majority_undersampled = resample(df_majority, replace = False, n_samples = 5287, random_state= 100)\n",
    "\n",
    "df_undersampled = pd.concat([df_minority, df_majority_undersampled])\n",
    "\n",
    "df_undersampled.Y.value_counts()"
   ]
  },
  {
   "cell_type": "markdown",
   "metadata": {},
   "source": [
    "##### d) Sampling - SMOTE"
   ]
  },
  {
   "cell_type": "code",
   "execution_count": 621,
   "metadata": {},
   "outputs": [],
   "source": [
    "from imblearn.over_sampling import SMOTE"
   ]
  },
  {
   "cell_type": "code",
   "execution_count": 622,
   "metadata": {},
   "outputs": [
    {
     "name": "stdout",
     "output_type": "stream",
     "text": [
      "37370\n",
      "37370\n",
      "18685\n"
     ]
    }
   ],
   "source": [
    "sm = SMOTE(random_state= 100)\n",
    "X_SMOTE, y_SMOTE = sm.fit_resample(X_train, y_train)\n",
    "\n",
    "print(len(X_SMOTE))\n",
    "print(len(y_SMOTE))\n",
    "print(y_SMOTE.sum())\n"
   ]
  },
  {
   "cell_type": "code",
   "execution_count": 623,
   "metadata": {},
   "outputs": [
    {
     "data": {
      "text/plain": [
       "Y\n",
       "0    18685\n",
       "1     5287\n",
       "Name: count, dtype: int64"
      ]
     },
     "execution_count": 623,
     "metadata": {},
     "output_type": "execute_result"
    }
   ],
   "source": [
    "y_train.value_counts()"
   ]
  },
  {
   "cell_type": "code",
   "execution_count": 624,
   "metadata": {},
   "outputs": [
    {
     "data": {
      "text/plain": [
       "Y\n",
       "0    18685\n",
       "1    18685\n",
       "Name: count, dtype: int64"
      ]
     },
     "execution_count": 624,
     "metadata": {},
     "output_type": "execute_result"
    }
   ],
   "source": [
    "y_SMOTE.value_counts()"
   ]
  },
  {
   "cell_type": "markdown",
   "metadata": {},
   "source": [
    "##### e) Scaling"
   ]
  },
  {
   "cell_type": "code",
   "execution_count": 625,
   "metadata": {},
   "outputs": [],
   "source": [
    "scaler = StandardScaler()"
   ]
  },
  {
   "cell_type": "code",
   "execution_count": 626,
   "metadata": {},
   "outputs": [],
   "source": [
    "y = df_normal['Y'].copy()\n",
    "X = df_normal.drop('Y', axis =1 ).copy()\n",
    "\n",
    "X_train, X_test, y_train, y_test = train_test_split(X, y, train_size = 0.8, random_state = 100, shuffle=True)\n",
    "\n",
    "X_train_scaled = scaler.fit_transform(X_train)\n",
    "X_test_scaled = scaler.fit_transform(X_test)"
   ]
  },
  {
   "cell_type": "code",
   "execution_count": 627,
   "metadata": {},
   "outputs": [],
   "source": [
    "y_os = df_oversampled['Y'].copy()\n",
    "X_os = df_oversampled.drop('Y', axis =1 ).copy()\n",
    "\n",
    "X_train_os, X_test_os, y_train_os, y_test_os = train_test_split(X_os, y_os, train_size = 0.8, random_state = 100, shuffle=True)\n",
    "\n",
    "X_train_os_scaled = scaler.fit_transform(X_train_os)\n",
    "X_test_os_scaled = scaler.fit_transform(X_test_os)"
   ]
  },
  {
   "cell_type": "code",
   "execution_count": 628,
   "metadata": {},
   "outputs": [],
   "source": [
    "y_us = df_undersampled['Y'].copy()\n",
    "X_us = df_undersampled.drop('Y', axis =1 ).copy()\n",
    "\n",
    "X_train_us, X_test_us, y_train_us, y_test_us = train_test_split(X_us, y_us, train_size = 0.8, random_state = 100, shuffle=True)\n",
    "\n",
    "X_train_us_scaled = scaler.fit_transform(X_train_us)\n",
    "X_test_us_scaled = scaler.fit_transform(X_test_us)"
   ]
  },
  {
   "cell_type": "code",
   "execution_count": 629,
   "metadata": {},
   "outputs": [],
   "source": [
    "X_train_sm, X_test_sm, y_train_sm, y_test_sm = train_test_split(X_SMOTE, y_SMOTE, train_size = 0.8, random_state = 100, shuffle=True)\n",
    "\n",
    "X_train_sm_scaled = scaler.fit_transform(X_train_sm)\n",
    "X_test_sm_scaled = scaler.fit_transform(X_test_sm)"
   ]
  },
  {
   "cell_type": "markdown",
   "metadata": {},
   "source": [
    "#### 5. Model Building"
   ]
  },
  {
   "cell_type": "code",
   "execution_count": 630,
   "metadata": {},
   "outputs": [],
   "source": [
    "from sklearn.metrics import f1_score, accuracy_score, confusion_matrix, recall_score, precision_score\n",
    "\n",
    "def evaluate_model(y_true, y_pred):\n",
    "    \"\"\"\n",
    "    Evaluate a classification model using various metrics.\n",
    "\n",
    "    Parameters:\n",
    "    y_true (pd.Series): True labels.\n",
    "    y_pred (np.ndarray): Predicted labels.\n",
    "\n",
    "    Returns:\n",
    "    dict: A dictionary containing evaluation metrics.\n",
    "    \"\"\"\n",
    "    # Calculate metrics\n",
    "    f1 = f1_score(y_true, y_pred)\n",
    "    accuracy = accuracy_score(y_true, y_pred)\n",
    "    recall = recall_score(y_true, y_pred)\n",
    "    precision = precision_score(y_true, y_pred)\n",
    "\n",
    "    # Confusion matrix\n",
    "    cm = confusion_matrix(y_true, y_pred)\n",
    "    TN, FP, FN, TP = cm.ravel()\n",
    "\n",
    "    # Miss rate\n",
    "    miss_rate = FN / (FN + TP) if (FN + TP) > 0 else 0\n",
    "\n",
    "    # Print metrics\n",
    "    print(f\"F1 Score: {f1:.2f}\")\n",
    "    print(f\"Accuracy: {accuracy:.2f}\")\n",
    "    print(f\"True Positives (TP): {TP}\")\n",
    "    print(f\"True Negatives (TN): {TN}\")\n",
    "    print(f\"False Positives (FP): {FP}\")\n",
    "    print(f\"False Negatives (FN): {FN}\")\n",
    "    print(f\"Recall: {recall:.2f}\")\n",
    "    print(f\"Precision: {precision:.2f}\")\n",
    "    print(f\"Miss Rate: {miss_rate:.2f}\")\n",
    "\n",
    "    return {\n",
    "            \"F1 Score\": round(f1, 2),\n",
    "            \"Accuracy\": round(accuracy, 2),\n",
    "            \"Precision\": round(precision, 2),\n",
    "            \"Recall\": round(recall, 2),\n",
    "            \"Miss Rate\": round(miss_rate, 2)\n",
    "        }\n",
    "summary = []"
   ]
  },
  {
   "cell_type": "markdown",
   "metadata": {},
   "source": [
    "##### a) Bagging - Random Forest Classifier"
   ]
  },
  {
   "cell_type": "code",
   "execution_count": 631,
   "metadata": {},
   "outputs": [],
   "source": [
    "# set up parameters\n",
    "rfc_metric = 'gini'\n",
    "random_state = 100\n",
    "\n",
    "# initialize the classifier\n",
    "rfc = RandomForestClassifier(random_state = random_state,\n",
    "                            criterion = rfc_metric)\n",
    "                            \n"
   ]
  },
  {
   "cell_type": "code",
   "execution_count": 632,
   "metadata": {},
   "outputs": [
    {
     "name": "stdout",
     "output_type": "stream",
     "text": [
      "F1 Score: 0.39\n",
      "Accuracy: 0.81\n",
      "True Positives (TP): 281\n",
      "True Negatives (TN): 3623\n",
      "False Positives (FP): 135\n",
      "False Negatives (FN): 756\n",
      "Recall: 0.27\n",
      "Precision: 0.68\n",
      "Miss Rate: 0.73\n"
     ]
    }
   ],
   "source": [
    "# train the model on normal sample data\n",
    "rfc.fit(X_train_scaled, y_train)\n",
    "rfc_pred = rfc.predict(X_test_scaled)\n",
    "\n",
    "rfc_pred_metrics = evaluate_model(y_test, rfc_pred)\n",
    "rfc_pred_metrics[\"Model\"] = \"Random Forest Normal Sample\"\n",
    "summary.append(rfc_pred_metrics)"
   ]
  },
  {
   "cell_type": "code",
   "execution_count": 633,
   "metadata": {},
   "outputs": [
    {
     "name": "stdout",
     "output_type": "stream",
     "text": [
      "F1 Score: 0.64\n",
      "Accuracy: 0.72\n",
      "True Positives (TP): 1845\n",
      "True Negatives (TN): 3548\n",
      "False Positives (FP): 193\n",
      "False Negatives (FN): 1888\n",
      "Recall: 0.49\n",
      "Precision: 0.91\n",
      "Miss Rate: 0.51\n"
     ]
    }
   ],
   "source": [
    "# train the model on oversampled data\n",
    "rfc.fit(X_train_os_scaled, y_train_os)\n",
    "rfc_pred_os = rfc.predict(X_test_os_scaled)\n",
    "\n",
    "rfc_pred_os_metrics = evaluate_model(y_test_os, rfc_pred_os)\n",
    "rfc_pred_os_metrics[\"Model\"] = \"Random Forest Oversampled\"\n",
    "summary.append(rfc_pred_os_metrics)"
   ]
  },
  {
   "cell_type": "code",
   "execution_count": 634,
   "metadata": {},
   "outputs": [
    {
     "name": "stdout",
     "output_type": "stream",
     "text": [
      "F1 Score: 0.66\n",
      "Accuracy: 0.70\n",
      "True Positives (TP): 617\n",
      "True Negatives (TN): 874\n",
      "False Positives (FP): 205\n",
      "False Negatives (FN): 419\n",
      "Recall: 0.60\n",
      "Precision: 0.75\n",
      "Miss Rate: 0.40\n"
     ]
    }
   ],
   "source": [
    "# train the model on undersampled data\n",
    "rfc.fit(X_train_us_scaled, y_train_us)\n",
    "rfc_pred_us = rfc.predict(X_test_us_scaled)\n",
    "\n",
    "rfc_pred_us_metrics = evaluate_model(y_test_us, rfc_pred_us)\n",
    "rfc_pred_us_metrics[\"Model\"] = \"Random Forest Undersampled\"\n",
    "summary.append(rfc_pred_us_metrics)"
   ]
  },
  {
   "cell_type": "code",
   "execution_count": 635,
   "metadata": {},
   "outputs": [
    {
     "name": "stdout",
     "output_type": "stream",
     "text": [
      "F1 Score: 0.74\n",
      "Accuracy: 0.75\n",
      "True Positives (TP): 2673\n",
      "True Negatives (TN): 2896\n",
      "False Positives (FP): 849\n",
      "False Negatives (FN): 1056\n",
      "Recall: 0.72\n",
      "Precision: 0.76\n",
      "Miss Rate: 0.28\n"
     ]
    }
   ],
   "source": [
    "# train the model on SMOTE data\n",
    "abc.fit(X_train_sm_scaled, y_train_sm)\n",
    "rfc_pred_sm = rfc.predict(X_test_sm_scaled)\n",
    "\n",
    "rfc_pred_sm_metrics = evaluate_model(y_test_sm, rfc_pred_sm)\n",
    "rfc_pred_sm_metrics[\"Model\"] = \"Random Forest SMOTE\"\n",
    "summary.append(rfc_pred_sm_metrics)"
   ]
  },
  {
   "cell_type": "markdown",
   "metadata": {},
   "source": [
    "##### b) Boosting - AdaBoost: focusing on misclassification and assigning larger weights in sequential training."
   ]
  },
  {
   "cell_type": "code",
   "execution_count": 636,
   "metadata": {},
   "outputs": [],
   "source": [
    "from sklearn.ensemble import AdaBoostClassifier\n",
    "\n",
    "# set up parameters\n",
    "learning_rate = 0.1\n",
    "n_estimators = 100\n",
    "random_state = 100\n",
    "\n",
    "# initialize the classifier\n",
    "abc = AdaBoostClassifier(n_estimators= n_estimators,\n",
    "                            random_state = random_state,\n",
    "                            learning_rate=learning_rate)"
   ]
  },
  {
   "cell_type": "code",
   "execution_count": 637,
   "metadata": {},
   "outputs": [
    {
     "name": "stdout",
     "output_type": "stream",
     "text": [
      "F1 Score: 0.49\n",
      "Accuracy: 0.70\n",
      "True Positives (TP): 716\n",
      "True Negatives (TN): 2617\n",
      "False Positives (FP): 1141\n",
      "False Negatives (FN): 321\n",
      "Recall: 0.69\n",
      "Precision: 0.39\n",
      "Miss Rate: 0.31\n"
     ]
    }
   ],
   "source": [
    "# train the model on normal sample data\n",
    "abc.fit(X_train_scaled, y_train)\n",
    "abc_pred = gbm.predict(X_test_scaled)\n",
    "\n",
    "abc_pred_metrics = evaluate_model(y_test, abc_pred)\n",
    "abc_pred_metrics[\"Model\"] = \"AdaBoost Normal Sample\"\n",
    "summary.append(abc_pred_metrics)"
   ]
  },
  {
   "cell_type": "code",
   "execution_count": 638,
   "metadata": {},
   "outputs": [
    {
     "name": "stdout",
     "output_type": "stream",
     "text": [
      "F1 Score: 0.63\n",
      "Accuracy: 0.70\n",
      "True Positives (TP): 1969\n",
      "True Negatives (TN): 3226\n",
      "False Positives (FP): 515\n",
      "False Negatives (FN): 1764\n",
      "Recall: 0.53\n",
      "Precision: 0.79\n",
      "Miss Rate: 0.47\n"
     ]
    }
   ],
   "source": [
    "# train the model on oversampled data\n",
    "abc.fit(X_train_os_scaled, y_train_os)\n",
    "abc_pred_os = abc.predict(X_test_os_scaled)\n",
    "\n",
    "abc_pred_os_metrics = evaluate_model(y_test_os, abc_pred_os)\n",
    "abc_pred_os_metrics[\"Model\"] = \"AdaBoost Oversampled\"\n",
    "summary.append(abc_pred_os_metrics)"
   ]
  },
  {
   "cell_type": "code",
   "execution_count": 639,
   "metadata": {},
   "outputs": [
    {
     "name": "stdout",
     "output_type": "stream",
     "text": [
      "F1 Score: 0.66\n",
      "Accuracy: 0.71\n",
      "True Positives (TP): 583\n",
      "True Negatives (TN): 925\n",
      "False Positives (FP): 154\n",
      "False Negatives (FN): 453\n",
      "Recall: 0.56\n",
      "Precision: 0.79\n",
      "Miss Rate: 0.44\n"
     ]
    }
   ],
   "source": [
    "# train the model on undersampled data\n",
    "abc.fit(X_train_us_scaled, y_train_us)\n",
    "abc_pred_us = abc.predict(X_test_us_scaled)\n",
    "\n",
    "abc_pred_us_metrics = evaluate_model(y_test_us, abc_pred_us)\n",
    "abc_pred_us_metrics[\"Model\"] = \"AdaBoost Undersampled\"\n",
    "summary.append(abc_pred_us_metrics)"
   ]
  },
  {
   "cell_type": "code",
   "execution_count": 640,
   "metadata": {},
   "outputs": [
    {
     "name": "stdout",
     "output_type": "stream",
     "text": [
      "F1 Score: 0.65\n",
      "Accuracy: 0.71\n",
      "True Positives (TP): 2092\n",
      "True Negatives (TN): 3178\n",
      "False Positives (FP): 567\n",
      "False Negatives (FN): 1637\n",
      "Recall: 0.56\n",
      "Precision: 0.79\n",
      "Miss Rate: 0.44\n"
     ]
    }
   ],
   "source": [
    "# train the model on SMOTE data\n",
    "abc.fit(X_train_sm_scaled, y_train_sm)\n",
    "abc_pred_sm = abc.predict(X_test_sm_scaled)\n",
    "\n",
    "abc_pred_sm_metrics = evaluate_model(y_test_sm, abc_pred_sm)\n",
    "abc_pred_sm_metrics[\"Model\"] = \"AdaBoost SMOTE\"\n",
    "summary.append(abc_pred_sm_metrics)"
   ]
  },
  {
   "cell_type": "code",
   "execution_count": null,
   "metadata": {},
   "outputs": [],
   "source": []
  },
  {
   "cell_type": "markdown",
   "metadata": {},
   "source": [
    "##### c) Boosting - Gradient Boosting Machine: focusing on misclassification with gradient descents in iterative training."
   ]
  },
  {
   "cell_type": "code",
   "execution_count": 643,
   "metadata": {},
   "outputs": [],
   "source": [
    "from sklearn.ensemble import GradientBoostingClassifier\n",
    "\n",
    "# set up parameters\n",
    "learning_rate = 0.1\n",
    "n_estimators = 100\n",
    "random_state = 100\n",
    "\n",
    "# initialize the classifier\n",
    "gbm = GradientBoostingClassifier(n_estimators= n_estimators,\n",
    "                            random_state = random_state,\n",
    "                            learning_rate=learning_rate)"
   ]
  },
  {
   "cell_type": "code",
   "execution_count": 644,
   "metadata": {},
   "outputs": [
    {
     "name": "stdout",
     "output_type": "stream",
     "text": [
      "F1 Score: 0.46\n",
      "Accuracy: 0.82\n",
      "True Positives (TP): 361\n",
      "True Negatives (TN): 3578\n",
      "False Positives (FP): 180\n",
      "False Negatives (FN): 676\n",
      "Recall: 0.35\n",
      "Precision: 0.67\n",
      "Miss Rate: 0.65\n"
     ]
    }
   ],
   "source": [
    "# train the model on normal sample data\n",
    "gbm.fit(X_train_scaled, y_train)\n",
    "gbm_pred = gbm.predict(X_test_scaled)\n",
    "\n",
    "gbm_pred_metrics = evaluate_model(y_test, gbm_pred)\n",
    "gbm_pred_metrics[\"Model\"] = \"GBM Normal Sample\"\n",
    "summary.append(gbm_pred_metrics)"
   ]
  },
  {
   "cell_type": "code",
   "execution_count": 645,
   "metadata": {},
   "outputs": [
    {
     "name": "stdout",
     "output_type": "stream",
     "text": [
      "F1 Score: 0.70\n",
      "Accuracy: 0.72\n",
      "True Positives (TP): 2414\n",
      "True Negatives (TN): 2971\n",
      "False Positives (FP): 770\n",
      "False Negatives (FN): 1319\n",
      "Recall: 0.65\n",
      "Precision: 0.76\n",
      "Miss Rate: 0.35\n"
     ]
    }
   ],
   "source": [
    "# train the model on oversampled data\n",
    "gbm.fit(X_train_os_scaled, y_train_os)\n",
    "gbm_pred_os = gbm.predict(X_test_os_scaled)\n",
    "\n",
    "gbm_pred_os_metrics = evaluate_model(y_test_os, gbm_pred_os)\n",
    "gbm_pred_os_metrics[\"Model\"] = \"GBM Oversampled\"\n",
    "summary.append(gbm_pred_os_metrics)"
   ]
  },
  {
   "cell_type": "code",
   "execution_count": 646,
   "metadata": {},
   "outputs": [
    {
     "name": "stdout",
     "output_type": "stream",
     "text": [
      "F1 Score: 0.69\n",
      "Accuracy: 0.72\n",
      "True Positives (TP): 682\n",
      "True Negatives (TN): 832\n",
      "False Positives (FP): 247\n",
      "False Negatives (FN): 354\n",
      "Recall: 0.66\n",
      "Precision: 0.73\n",
      "Miss Rate: 0.34\n"
     ]
    }
   ],
   "source": [
    "# train the model on undersampled data\n",
    "gbm.fit(X_train_us_scaled, y_train_us)\n",
    "gbm_pred_us = gbm.predict(X_test_us_scaled)\n",
    "\n",
    "gbm_pred_us_metrics = evaluate_model(y_test_us, gbm_pred_us)\n",
    "gbm_pred_us_metrics[\"Model\"] = \"GBM Undersampled\"\n",
    "summary.append(gbm_pred_us_metrics)"
   ]
  },
  {
   "cell_type": "code",
   "execution_count": 647,
   "metadata": {},
   "outputs": [
    {
     "name": "stdout",
     "output_type": "stream",
     "text": [
      "F1 Score: 0.74\n",
      "Accuracy: 0.76\n",
      "True Positives (TP): 2625\n",
      "True Negatives (TN): 3027\n",
      "False Positives (FP): 718\n",
      "False Negatives (FN): 1104\n",
      "Recall: 0.70\n",
      "Precision: 0.79\n",
      "Miss Rate: 0.30\n"
     ]
    }
   ],
   "source": [
    "# train the model on SMOTE data\n",
    "gbm.fit(X_train_sm_scaled, y_train_sm)\n",
    "gbm_pred_sm = gbm.predict(X_test_sm_scaled)\n",
    "\n",
    "gbm_pred_sm_metrics = evaluate_model(y_test_sm, gbm_pred_sm)\n",
    "gbm_pred_sm_metrics[\"Model\"] = \"GBM SMOTE\"\n",
    "test.append(gbm_pred_sm_metrics)"
   ]
  },
  {
   "cell_type": "code",
   "execution_count": null,
   "metadata": {},
   "outputs": [],
   "source": []
  },
  {
   "cell_type": "markdown",
   "metadata": {},
   "source": [
    "##### d) Boosting - Light Gradient Boosting Machine: reducing the number of data instances and features to scan for maximizing efficiency."
   ]
  },
  {
   "cell_type": "code",
   "execution_count": 648,
   "metadata": {},
   "outputs": [],
   "source": [
    "from lightgbm import LGBMClassifier\n",
    "\n",
    "# Set up parameters\n",
    "learning_rate = 0.1\n",
    "n_estimators = 100\n",
    "random_state = 100\n",
    "\n",
    "# Initialize the classifier\n",
    "lgbm = LGBMClassifier(n_estimators=n_estimators,\n",
    "                      learning_rate=learning_rate,\n",
    "                      random_state=random_state)\n"
   ]
  },
  {
   "cell_type": "code",
   "execution_count": 649,
   "metadata": {},
   "outputs": [
    {
     "name": "stdout",
     "output_type": "stream",
     "text": [
      "[LightGBM] [Info] Number of positive: 4250, number of negative: 14927\n",
      "[LightGBM] [Info] Auto-choosing row-wise multi-threading, the overhead of testing was 0.000706 seconds.\n",
      "You can set `force_row_wise=true` to remove the overhead.\n",
      "And if memory is not enough, you can set `force_col_wise=true`.\n",
      "[LightGBM] [Info] Total Bins 6059\n",
      "[LightGBM] [Info] Number of data points in the train set: 19177, number of used features: 33\n",
      "[LightGBM] [Info] [binary:BoostFromScore]: pavg=0.221620 -> initscore=-1.256253\n",
      "[LightGBM] [Info] Start training from score -1.256253\n",
      "F1 Score: 0.38\n",
      "Accuracy: 0.82\n",
      "True Positives (TP): 266\n",
      "True Negatives (TN): 3656\n",
      "False Positives (FP): 102\n",
      "False Negatives (FN): 771\n",
      "Recall: 0.26\n",
      "Precision: 0.72\n",
      "Miss Rate: 0.74\n"
     ]
    },
    {
     "name": "stderr",
     "output_type": "stream",
     "text": [
      "/Library/Frameworks/Python.framework/Versions/3.13/lib/python3.13/site-packages/sklearn/utils/validation.py:2739: UserWarning: X does not have valid feature names, but LGBMClassifier was fitted with feature names\n"
     ]
    }
   ],
   "source": [
    "# train the model on normal sample data\n",
    "lgbm.fit(X_train_scaled, y_train)\n",
    "lgbm_pred = lgbm.predict(X_test_scaled)\n",
    "\n",
    "lgbm_pred_metrics = evaluate_model(y_test, lgbm_pred)\n",
    "lgbm_pred_metrics[\"Model\"] = \"LightGBM Normal Sample\"\n",
    "summary.append(lgbm_pred_metrics)"
   ]
  },
  {
   "cell_type": "code",
   "execution_count": 650,
   "metadata": {},
   "outputs": [
    {
     "name": "stdout",
     "output_type": "stream",
     "text": [
      "[LightGBM] [Info] Number of positive: 14952, number of negative: 14944\n",
      "[LightGBM] [Info] Auto-choosing row-wise multi-threading, the overhead of testing was 0.000756 seconds.\n",
      "You can set `force_row_wise=true` to remove the overhead.\n",
      "And if memory is not enough, you can set `force_col_wise=true`.\n",
      "[LightGBM] [Info] Total Bins 6063\n",
      "[LightGBM] [Info] Number of data points in the train set: 29896, number of used features: 33\n",
      "[LightGBM] [Info] [binary:BoostFromScore]: pavg=0.500134 -> initscore=0.000535\n",
      "[LightGBM] [Info] Start training from score 0.000535\n",
      "F1 Score: 0.70\n",
      "Accuracy: 0.73\n",
      "True Positives (TP): 2348\n",
      "True Negatives (TN): 3109\n",
      "False Positives (FP): 632\n",
      "False Negatives (FN): 1385\n",
      "Recall: 0.63\n",
      "Precision: 0.79\n",
      "Miss Rate: 0.37\n"
     ]
    },
    {
     "name": "stderr",
     "output_type": "stream",
     "text": [
      "/Library/Frameworks/Python.framework/Versions/3.13/lib/python3.13/site-packages/sklearn/utils/validation.py:2739: UserWarning: X does not have valid feature names, but LGBMClassifier was fitted with feature names\n"
     ]
    }
   ],
   "source": [
    "# train the model on oversampled data\n",
    "lgbm.fit(X_train_os_scaled, y_train_os)\n",
    "lgbm_pred_os = lgbm.predict(X_test_os_scaled)\n",
    "\n",
    "lgbm_pred_os_metrics = evaluate_model(y_test_os, lgbm_pred_os)\n",
    "lgbm_pred_os_metrics[\"Model\"] = \"LightGBM Oversampled\"\n",
    "summary.append(lgbm_pred_os_metrics)"
   ]
  },
  {
   "cell_type": "code",
   "execution_count": 651,
   "metadata": {},
   "outputs": [
    {
     "name": "stdout",
     "output_type": "stream",
     "text": [
      "[LightGBM] [Info] Number of positive: 4251, number of negative: 4208\n",
      "[LightGBM] [Info] Auto-choosing col-wise multi-threading, the overhead of testing was 0.000578 seconds.\n",
      "You can set `force_col_wise=true` to remove the overhead.\n",
      "[LightGBM] [Info] Total Bins 6041\n",
      "[LightGBM] [Info] Number of data points in the train set: 8459, number of used features: 33\n",
      "[LightGBM] [Info] [binary:BoostFromScore]: pavg=0.502542 -> initscore=0.010167\n",
      "[LightGBM] [Info] Start training from score 0.010167\n",
      "F1 Score: 0.68\n",
      "Accuracy: 0.70\n",
      "True Positives (TP): 672\n",
      "True Negatives (TN): 813\n",
      "False Positives (FP): 266\n",
      "False Negatives (FN): 364\n",
      "Recall: 0.65\n",
      "Precision: 0.72\n",
      "Miss Rate: 0.35\n"
     ]
    },
    {
     "name": "stderr",
     "output_type": "stream",
     "text": [
      "/Library/Frameworks/Python.framework/Versions/3.13/lib/python3.13/site-packages/sklearn/utils/validation.py:2739: UserWarning: X does not have valid feature names, but LGBMClassifier was fitted with feature names\n"
     ]
    }
   ],
   "source": [
    "# train the model on undersampled data\n",
    "lgbm.fit(X_train_us_scaled, y_train_us)\n",
    "lgbm_pred_us = lgbm.predict(X_test_us_scaled)\n",
    "\n",
    "lgbm_pred_us_metrics = evaluate_model(y_test_us, lgbm_pred_us)\n",
    "lgbm_pred_us_metrics[\"Model\"] = \"LightGBM Undersampled\"\n",
    "summary.append(lgbm_pred_us_metrics)"
   ]
  },
  {
   "cell_type": "code",
   "execution_count": 652,
   "metadata": {},
   "outputs": [
    {
     "name": "stdout",
     "output_type": "stream",
     "text": [
      "[LightGBM] [Info] Number of positive: 14956, number of negative: 14940\n",
      "[LightGBM] [Info] Auto-choosing row-wise multi-threading, the overhead of testing was 0.000870 seconds.\n",
      "You can set `force_row_wise=true` to remove the overhead.\n",
      "And if memory is not enough, you can set `force_col_wise=true`.\n",
      "[LightGBM] [Info] Total Bins 6246\n",
      "[LightGBM] [Info] Number of data points in the train set: 29896, number of used features: 33\n",
      "[LightGBM] [Info] [binary:BoostFromScore]: pavg=0.500268 -> initscore=0.001070\n",
      "[LightGBM] [Info] Start training from score 0.001070\n",
      "F1 Score: 0.75\n",
      "Accuracy: 0.72\n",
      "True Positives (TP): 3143\n",
      "True Negatives (TN): 2245\n",
      "False Positives (FP): 1500\n",
      "False Negatives (FN): 586\n",
      "Recall: 0.84\n",
      "Precision: 0.68\n",
      "Miss Rate: 0.16\n"
     ]
    },
    {
     "name": "stderr",
     "output_type": "stream",
     "text": [
      "/Library/Frameworks/Python.framework/Versions/3.13/lib/python3.13/site-packages/sklearn/utils/validation.py:2739: UserWarning: X does not have valid feature names, but LGBMClassifier was fitted with feature names\n"
     ]
    }
   ],
   "source": [
    "# train the model on SMOTE data\n",
    "lgbm.fit(X_train_sm_scaled, y_train_sm)\n",
    "lgbm_pred_sm = lgbm.predict(X_test_sm_scaled)\n",
    "\n",
    "lgbm_pred_sm_metrics = evaluate_model(y_test_sm, lgbm_pred_sm)\n",
    "lgbm_pred_sm_metrics[\"Model\"] = \"LightGBM SMOTE\"\n",
    "summary.append(lgbm_pred_sm_metrics)"
   ]
  },
  {
   "cell_type": "code",
   "execution_count": 653,
   "metadata": {},
   "outputs": [],
   "source": [
    "summary_df = pd.DataFrame(summary)"
   ]
  },
  {
   "cell_type": "code",
   "execution_count": 654,
   "metadata": {},
   "outputs": [
    {
     "data": {
      "text/html": [
       "<div>\n",
       "<style scoped>\n",
       "    .dataframe tbody tr th:only-of-type {\n",
       "        vertical-align: middle;\n",
       "    }\n",
       "\n",
       "    .dataframe tbody tr th {\n",
       "        vertical-align: top;\n",
       "    }\n",
       "\n",
       "    .dataframe thead th {\n",
       "        text-align: right;\n",
       "    }\n",
       "</style>\n",
       "<table border=\"1\" class=\"dataframe\">\n",
       "  <thead>\n",
       "    <tr style=\"text-align: right;\">\n",
       "      <th></th>\n",
       "      <th>Model</th>\n",
       "      <th>F1 Score</th>\n",
       "      <th>Accuracy</th>\n",
       "      <th>Precision</th>\n",
       "      <th>Recall</th>\n",
       "      <th>Miss Rate</th>\n",
       "    </tr>\n",
       "  </thead>\n",
       "  <tbody>\n",
       "    <tr>\n",
       "      <th>0</th>\n",
       "      <td>Random Forest Normal Sample</td>\n",
       "      <td>0.39</td>\n",
       "      <td>0.81</td>\n",
       "      <td>0.68</td>\n",
       "      <td>0.27</td>\n",
       "      <td>0.73</td>\n",
       "    </tr>\n",
       "    <tr>\n",
       "      <th>1</th>\n",
       "      <td>Random Forest Oversampled</td>\n",
       "      <td>0.64</td>\n",
       "      <td>0.72</td>\n",
       "      <td>0.91</td>\n",
       "      <td>0.49</td>\n",
       "      <td>0.51</td>\n",
       "    </tr>\n",
       "    <tr>\n",
       "      <th>2</th>\n",
       "      <td>Random Forest Undersampled</td>\n",
       "      <td>0.66</td>\n",
       "      <td>0.70</td>\n",
       "      <td>0.75</td>\n",
       "      <td>0.60</td>\n",
       "      <td>0.40</td>\n",
       "    </tr>\n",
       "    <tr>\n",
       "      <th>3</th>\n",
       "      <td>Random Forest SMOTE</td>\n",
       "      <td>0.74</td>\n",
       "      <td>0.75</td>\n",
       "      <td>0.76</td>\n",
       "      <td>0.72</td>\n",
       "      <td>0.28</td>\n",
       "    </tr>\n",
       "    <tr>\n",
       "      <th>4</th>\n",
       "      <td>AdaBoost Normal Sample</td>\n",
       "      <td>0.49</td>\n",
       "      <td>0.70</td>\n",
       "      <td>0.39</td>\n",
       "      <td>0.69</td>\n",
       "      <td>0.31</td>\n",
       "    </tr>\n",
       "    <tr>\n",
       "      <th>5</th>\n",
       "      <td>AdaBoost Oversampled</td>\n",
       "      <td>0.63</td>\n",
       "      <td>0.70</td>\n",
       "      <td>0.79</td>\n",
       "      <td>0.53</td>\n",
       "      <td>0.47</td>\n",
       "    </tr>\n",
       "    <tr>\n",
       "      <th>6</th>\n",
       "      <td>AdaBoost Undersampled</td>\n",
       "      <td>0.66</td>\n",
       "      <td>0.71</td>\n",
       "      <td>0.79</td>\n",
       "      <td>0.56</td>\n",
       "      <td>0.44</td>\n",
       "    </tr>\n",
       "    <tr>\n",
       "      <th>7</th>\n",
       "      <td>AdaBoost SMOTE</td>\n",
       "      <td>0.65</td>\n",
       "      <td>0.71</td>\n",
       "      <td>0.79</td>\n",
       "      <td>0.56</td>\n",
       "      <td>0.44</td>\n",
       "    </tr>\n",
       "    <tr>\n",
       "      <th>8</th>\n",
       "      <td>GBM Normal Sample</td>\n",
       "      <td>0.46</td>\n",
       "      <td>0.82</td>\n",
       "      <td>0.67</td>\n",
       "      <td>0.35</td>\n",
       "      <td>0.65</td>\n",
       "    </tr>\n",
       "    <tr>\n",
       "      <th>9</th>\n",
       "      <td>GBM Oversampled</td>\n",
       "      <td>0.70</td>\n",
       "      <td>0.72</td>\n",
       "      <td>0.76</td>\n",
       "      <td>0.65</td>\n",
       "      <td>0.35</td>\n",
       "    </tr>\n",
       "    <tr>\n",
       "      <th>10</th>\n",
       "      <td>GBM Undersampled</td>\n",
       "      <td>0.69</td>\n",
       "      <td>0.72</td>\n",
       "      <td>0.73</td>\n",
       "      <td>0.66</td>\n",
       "      <td>0.34</td>\n",
       "    </tr>\n",
       "    <tr>\n",
       "      <th>11</th>\n",
       "      <td>LightGBM Normal Sample</td>\n",
       "      <td>0.38</td>\n",
       "      <td>0.82</td>\n",
       "      <td>0.72</td>\n",
       "      <td>0.26</td>\n",
       "      <td>0.74</td>\n",
       "    </tr>\n",
       "    <tr>\n",
       "      <th>12</th>\n",
       "      <td>LightGBM Oversampled</td>\n",
       "      <td>0.70</td>\n",
       "      <td>0.73</td>\n",
       "      <td>0.79</td>\n",
       "      <td>0.63</td>\n",
       "      <td>0.37</td>\n",
       "    </tr>\n",
       "    <tr>\n",
       "      <th>13</th>\n",
       "      <td>LightGBM Undersampled</td>\n",
       "      <td>0.68</td>\n",
       "      <td>0.70</td>\n",
       "      <td>0.72</td>\n",
       "      <td>0.65</td>\n",
       "      <td>0.35</td>\n",
       "    </tr>\n",
       "    <tr>\n",
       "      <th>14</th>\n",
       "      <td>LightGBM SMOTE</td>\n",
       "      <td>0.75</td>\n",
       "      <td>0.72</td>\n",
       "      <td>0.68</td>\n",
       "      <td>0.84</td>\n",
       "      <td>0.16</td>\n",
       "    </tr>\n",
       "  </tbody>\n",
       "</table>\n",
       "</div>"
      ],
      "text/plain": [
       "                          Model  F1 Score  Accuracy  Precision  Recall  \\\n",
       "0   Random Forest Normal Sample      0.39      0.81       0.68    0.27   \n",
       "1     Random Forest Oversampled      0.64      0.72       0.91    0.49   \n",
       "2    Random Forest Undersampled      0.66      0.70       0.75    0.60   \n",
       "3           Random Forest SMOTE      0.74      0.75       0.76    0.72   \n",
       "4        AdaBoost Normal Sample      0.49      0.70       0.39    0.69   \n",
       "5          AdaBoost Oversampled      0.63      0.70       0.79    0.53   \n",
       "6         AdaBoost Undersampled      0.66      0.71       0.79    0.56   \n",
       "7                AdaBoost SMOTE      0.65      0.71       0.79    0.56   \n",
       "8             GBM Normal Sample      0.46      0.82       0.67    0.35   \n",
       "9               GBM Oversampled      0.70      0.72       0.76    0.65   \n",
       "10             GBM Undersampled      0.69      0.72       0.73    0.66   \n",
       "11       LightGBM Normal Sample      0.38      0.82       0.72    0.26   \n",
       "12         LightGBM Oversampled      0.70      0.73       0.79    0.63   \n",
       "13        LightGBM Undersampled      0.68      0.70       0.72    0.65   \n",
       "14               LightGBM SMOTE      0.75      0.72       0.68    0.84   \n",
       "\n",
       "    Miss Rate  \n",
       "0        0.73  \n",
       "1        0.51  \n",
       "2        0.40  \n",
       "3        0.28  \n",
       "4        0.31  \n",
       "5        0.47  \n",
       "6        0.44  \n",
       "7        0.44  \n",
       "8        0.65  \n",
       "9        0.35  \n",
       "10       0.34  \n",
       "11       0.74  \n",
       "12       0.37  \n",
       "13       0.35  \n",
       "14       0.16  "
      ]
     },
     "execution_count": 654,
     "metadata": {},
     "output_type": "execute_result"
    }
   ],
   "source": [
    "new_order = ['Model', 'F1 Score', 'Accuracy', 'Precision', 'Recall', 'Miss Rate']\n",
    "summary_df = summary_df[new_order]\n",
    "\n",
    "summary_df"
   ]
  },
  {
   "cell_type": "code",
   "execution_count": 655,
   "metadata": {},
   "outputs": [
    {
     "data": {
      "image/png": "[encoded data removed]",
      "text/plain": [
       "<Figure size 1000x600 with 2 Axes>"
      ]
     },
     "metadata": {},
     "output_type": "display_data"
    }
   ],
   "source": [
    "plt.figure(figsize=(10, 6))\n",
    "sns.heatmap(summary_df.set_index('Model'), annot=True, fmt=\".2f\", cmap=\"coolwarm\", cbar=True, vmax=1, vmin=0)\n",
    "plt.title(\"Model Performance Metrics Heatmap\")\n",
    "plt.xticks(rotation=45, ha='right')\n",
    "plt.tight_layout()\n",
    "plt.show()"
   ]
  },
  {
   "cell_type": "code",
   "execution_count": 656,
   "metadata": {},
   "outputs": [
    {
     "data": {
      "text/html": [
       "<div>\n",
       "<style scoped>\n",
       "    .dataframe tbody tr th:only-of-type {\n",
       "        vertical-align: middle;\n",
       "    }\n",
       "\n",
       "    .dataframe tbody tr th {\n",
       "        vertical-align: top;\n",
       "    }\n",
       "\n",
       "    .dataframe thead th {\n",
       "        text-align: right;\n",
       "    }\n",
       "</style>\n",
       "<table border=\"1\" class=\"dataframe\">\n",
       "  <thead>\n",
       "    <tr style=\"text-align: right;\">\n",
       "      <th></th>\n",
       "      <th>Model</th>\n",
       "      <th>F1 Score</th>\n",
       "      <th>Accuracy</th>\n",
       "      <th>Precision</th>\n",
       "      <th>Recall</th>\n",
       "      <th>Miss Rate</th>\n",
       "    </tr>\n",
       "  </thead>\n",
       "  <tbody>\n",
       "    <tr>\n",
       "      <th>0</th>\n",
       "      <td>Random Forest Normal Sample</td>\n",
       "      <td>0.39</td>\n",
       "      <td>0.81</td>\n",
       "      <td>0.68</td>\n",
       "      <td>0.27</td>\n",
       "      <td>0.73</td>\n",
       "    </tr>\n",
       "    <tr>\n",
       "      <th>1</th>\n",
       "      <td>Random Forest Oversampled</td>\n",
       "      <td>0.64</td>\n",
       "      <td>0.72</td>\n",
       "      <td>0.91</td>\n",
       "      <td>0.49</td>\n",
       "      <td>0.51</td>\n",
       "    </tr>\n",
       "    <tr>\n",
       "      <th>2</th>\n",
       "      <td>Random Forest Undersampled</td>\n",
       "      <td>0.66</td>\n",
       "      <td>0.70</td>\n",
       "      <td>0.75</td>\n",
       "      <td>0.60</td>\n",
       "      <td>0.40</td>\n",
       "    </tr>\n",
       "    <tr>\n",
       "      <th>3</th>\n",
       "      <td>Random Forest SMOTE</td>\n",
       "      <td>0.74</td>\n",
       "      <td>0.75</td>\n",
       "      <td>0.76</td>\n",
       "      <td>0.72</td>\n",
       "      <td>0.28</td>\n",
       "    </tr>\n",
       "    <tr>\n",
       "      <th>4</th>\n",
       "      <td>AdaBoost Normal Sample</td>\n",
       "      <td>0.49</td>\n",
       "      <td>0.70</td>\n",
       "      <td>0.39</td>\n",
       "      <td>0.69</td>\n",
       "      <td>0.31</td>\n",
       "    </tr>\n",
       "    <tr>\n",
       "      <th>5</th>\n",
       "      <td>AdaBoost Oversampled</td>\n",
       "      <td>0.63</td>\n",
       "      <td>0.70</td>\n",
       "      <td>0.79</td>\n",
       "      <td>0.53</td>\n",
       "      <td>0.47</td>\n",
       "    </tr>\n",
       "    <tr>\n",
       "      <th>6</th>\n",
       "      <td>AdaBoost Undersampled</td>\n",
       "      <td>0.66</td>\n",
       "      <td>0.71</td>\n",
       "      <td>0.79</td>\n",
       "      <td>0.56</td>\n",
       "      <td>0.44</td>\n",
       "    </tr>\n",
       "    <tr>\n",
       "      <th>7</th>\n",
       "      <td>AdaBoost SMOTE</td>\n",
       "      <td>0.65</td>\n",
       "      <td>0.71</td>\n",
       "      <td>0.79</td>\n",
       "      <td>0.56</td>\n",
       "      <td>0.44</td>\n",
       "    </tr>\n",
       "    <tr>\n",
       "      <th>8</th>\n",
       "      <td>GBM Normal Sample</td>\n",
       "      <td>0.46</td>\n",
       "      <td>0.82</td>\n",
       "      <td>0.67</td>\n",
       "      <td>0.35</td>\n",
       "      <td>0.65</td>\n",
       "    </tr>\n",
       "    <tr>\n",
       "      <th>9</th>\n",
       "      <td>GBM Oversampled</td>\n",
       "      <td>0.70</td>\n",
       "      <td>0.72</td>\n",
       "      <td>0.76</td>\n",
       "      <td>0.65</td>\n",
       "      <td>0.35</td>\n",
       "    </tr>\n",
       "    <tr>\n",
       "      <th>10</th>\n",
       "      <td>GBM Undersampled</td>\n",
       "      <td>0.69</td>\n",
       "      <td>0.72</td>\n",
       "      <td>0.73</td>\n",
       "      <td>0.66</td>\n",
       "      <td>0.34</td>\n",
       "    </tr>\n",
       "    <tr>\n",
       "      <th>11</th>\n",
       "      <td>LightGBM Normal Sample</td>\n",
       "      <td>0.38</td>\n",
       "      <td>0.82</td>\n",
       "      <td>0.72</td>\n",
       "      <td>0.26</td>\n",
       "      <td>0.74</td>\n",
       "    </tr>\n",
       "    <tr>\n",
       "      <th>12</th>\n",
       "      <td>LightGBM Oversampled</td>\n",
       "      <td>0.70</td>\n",
       "      <td>0.73</td>\n",
       "      <td>0.79</td>\n",
       "      <td>0.63</td>\n",
       "      <td>0.37</td>\n",
       "    </tr>\n",
       "    <tr>\n",
       "      <th>13</th>\n",
       "      <td>LightGBM Undersampled</td>\n",
       "      <td>0.68</td>\n",
       "      <td>0.70</td>\n",
       "      <td>0.72</td>\n",
       "      <td>0.65</td>\n",
       "      <td>0.35</td>\n",
       "    </tr>\n",
       "    <tr>\n",
       "      <th>14</th>\n",
       "      <td>LightGBM SMOTE</td>\n",
       "      <td>0.75</td>\n",
       "      <td>0.72</td>\n",
       "      <td>0.68</td>\n",
       "      <td>0.84</td>\n",
       "      <td>0.16</td>\n",
       "    </tr>\n",
       "  </tbody>\n",
       "</table>\n",
       "</div>"
      ],
      "text/plain": [
       "                          Model  F1 Score  Accuracy  Precision  Recall  \\\n",
       "0   Random Forest Normal Sample      0.39      0.81       0.68    0.27   \n",
       "1     Random Forest Oversampled      0.64      0.72       0.91    0.49   \n",
       "2    Random Forest Undersampled      0.66      0.70       0.75    0.60   \n",
       "3           Random Forest SMOTE      0.74      0.75       0.76    0.72   \n",
       "4        AdaBoost Normal Sample      0.49      0.70       0.39    0.69   \n",
       "5          AdaBoost Oversampled      0.63      0.70       0.79    0.53   \n",
       "6         AdaBoost Undersampled      0.66      0.71       0.79    0.56   \n",
       "7                AdaBoost SMOTE      0.65      0.71       0.79    0.56   \n",
       "8             GBM Normal Sample      0.46      0.82       0.67    0.35   \n",
       "9               GBM Oversampled      0.70      0.72       0.76    0.65   \n",
       "10             GBM Undersampled      0.69      0.72       0.73    0.66   \n",
       "11       LightGBM Normal Sample      0.38      0.82       0.72    0.26   \n",
       "12         LightGBM Oversampled      0.70      0.73       0.79    0.63   \n",
       "13        LightGBM Undersampled      0.68      0.70       0.72    0.65   \n",
       "14               LightGBM SMOTE      0.75      0.72       0.68    0.84   \n",
       "\n",
       "    Miss Rate  \n",
       "0        0.73  \n",
       "1        0.51  \n",
       "2        0.40  \n",
       "3        0.28  \n",
       "4        0.31  \n",
       "5        0.47  \n",
       "6        0.44  \n",
       "7        0.44  \n",
       "8        0.65  \n",
       "9        0.35  \n",
       "10       0.34  \n",
       "11       0.74  \n",
       "12       0.37  \n",
       "13       0.35  \n",
       "14       0.16  "
      ]
     },
     "execution_count": 656,
     "metadata": {},
     "output_type": "execute_result"
    }
   ],
   "source": [
    "summary_df"
   ]
  },
  {
   "cell_type": "code",
   "execution_count": 666,
   "metadata": {},
   "outputs": [
    {
     "data": {
      "text/html": [
       "<div>\n",
       "<style scoped>\n",
       "    .dataframe tbody tr th:only-of-type {\n",
       "        vertical-align: middle;\n",
       "    }\n",
       "\n",
       "    .dataframe tbody tr th {\n",
       "        vertical-align: top;\n",
       "    }\n",
       "\n",
       "    .dataframe thead th {\n",
       "        text-align: right;\n",
       "    }\n",
       "</style>\n",
       "<table border=\"1\" class=\"dataframe\">\n",
       "  <thead>\n",
       "    <tr style=\"text-align: right;\">\n",
       "      <th></th>\n",
       "      <th>Feature</th>\n",
       "      <th>Importance</th>\n",
       "    </tr>\n",
       "  </thead>\n",
       "  <tbody>\n",
       "    <tr>\n",
       "      <th>4</th>\n",
       "      <td>PAY_1</td>\n",
       "      <td>0.082328</td>\n",
       "    </tr>\n",
       "    <tr>\n",
       "      <th>0</th>\n",
       "      <td>LIMIT_BAL</td>\n",
       "      <td>0.044026</td>\n",
       "    </tr>\n",
       "    <tr>\n",
       "      <th>2</th>\n",
       "      <td>AGE</td>\n",
       "      <td>0.041262</td>\n",
       "    </tr>\n",
       "    <tr>\n",
       "      <th>32</th>\n",
       "      <td>AVG_EXP_1</td>\n",
       "      <td>0.040091</td>\n",
       "    </tr>\n",
       "    <tr>\n",
       "      <th>10</th>\n",
       "      <td>BILL_AMT1</td>\n",
       "      <td>0.037037</td>\n",
       "    </tr>\n",
       "    <tr>\n",
       "      <th>16</th>\n",
       "      <td>PAY_AMT1</td>\n",
       "      <td>0.036818</td>\n",
       "    </tr>\n",
       "    <tr>\n",
       "      <th>31</th>\n",
       "      <td>AVG_EXP_2</td>\n",
       "      <td>0.033365</td>\n",
       "    </tr>\n",
       "    <tr>\n",
       "      <th>30</th>\n",
       "      <td>AVG_EXP_3</td>\n",
       "      <td>0.032357</td>\n",
       "    </tr>\n",
       "    <tr>\n",
       "      <th>29</th>\n",
       "      <td>AVG_EXP_4</td>\n",
       "      <td>0.032049</td>\n",
       "    </tr>\n",
       "    <tr>\n",
       "      <th>12</th>\n",
       "      <td>BILL_AMT3</td>\n",
       "      <td>0.031681</td>\n",
       "    </tr>\n",
       "    <tr>\n",
       "      <th>11</th>\n",
       "      <td>BILL_AMT2</td>\n",
       "      <td>0.031627</td>\n",
       "    </tr>\n",
       "    <tr>\n",
       "      <th>17</th>\n",
       "      <td>PAY_AMT2</td>\n",
       "      <td>0.031444</td>\n",
       "    </tr>\n",
       "    <tr>\n",
       "      <th>28</th>\n",
       "      <td>AVG_EXP_5</td>\n",
       "      <td>0.031321</td>\n",
       "    </tr>\n",
       "    <tr>\n",
       "      <th>22</th>\n",
       "      <td>PAY_RATIO_1</td>\n",
       "      <td>0.030129</td>\n",
       "    </tr>\n",
       "    <tr>\n",
       "      <th>18</th>\n",
       "      <td>PAY_AMT3</td>\n",
       "      <td>0.029416</td>\n",
       "    </tr>\n",
       "    <tr>\n",
       "      <th>21</th>\n",
       "      <td>PAY_AMT6</td>\n",
       "      <td>0.029179</td>\n",
       "    </tr>\n",
       "    <tr>\n",
       "      <th>23</th>\n",
       "      <td>PAY_RATIO_2</td>\n",
       "      <td>0.029060</td>\n",
       "    </tr>\n",
       "    <tr>\n",
       "      <th>14</th>\n",
       "      <td>BILL_AMT5</td>\n",
       "      <td>0.029013</td>\n",
       "    </tr>\n",
       "    <tr>\n",
       "      <th>13</th>\n",
       "      <td>BILL_AMT4</td>\n",
       "      <td>0.028787</td>\n",
       "    </tr>\n",
       "    <tr>\n",
       "      <th>24</th>\n",
       "      <td>PAY_RATIO_3</td>\n",
       "      <td>0.028591</td>\n",
       "    </tr>\n",
       "    <tr>\n",
       "      <th>27</th>\n",
       "      <td>PAY_RATIO_6</td>\n",
       "      <td>0.028350</td>\n",
       "    </tr>\n",
       "    <tr>\n",
       "      <th>5</th>\n",
       "      <td>PAY_2</td>\n",
       "      <td>0.028029</td>\n",
       "    </tr>\n",
       "    <tr>\n",
       "      <th>19</th>\n",
       "      <td>PAY_AMT4</td>\n",
       "      <td>0.027424</td>\n",
       "    </tr>\n",
       "    <tr>\n",
       "      <th>15</th>\n",
       "      <td>BILL_AMT6</td>\n",
       "      <td>0.027412</td>\n",
       "    </tr>\n",
       "    <tr>\n",
       "      <th>25</th>\n",
       "      <td>PAY_RATIO_4</td>\n",
       "      <td>0.026892</td>\n",
       "    </tr>\n",
       "    <tr>\n",
       "      <th>26</th>\n",
       "      <td>PAY_RATIO_5</td>\n",
       "      <td>0.026211</td>\n",
       "    </tr>\n",
       "    <tr>\n",
       "      <th>20</th>\n",
       "      <td>PAY_AMT5</td>\n",
       "      <td>0.026009</td>\n",
       "    </tr>\n",
       "    <tr>\n",
       "      <th>6</th>\n",
       "      <td>PAY_3</td>\n",
       "      <td>0.022951</td>\n",
       "    </tr>\n",
       "    <tr>\n",
       "      <th>7</th>\n",
       "      <td>PAY_4</td>\n",
       "      <td>0.018204</td>\n",
       "    </tr>\n",
       "    <tr>\n",
       "      <th>3</th>\n",
       "      <td>SEX_MAR</td>\n",
       "      <td>0.017403</td>\n",
       "    </tr>\n",
       "    <tr>\n",
       "      <th>8</th>\n",
       "      <td>PAY_5</td>\n",
       "      <td>0.015588</td>\n",
       "    </tr>\n",
       "    <tr>\n",
       "      <th>1</th>\n",
       "      <td>EDUCATION</td>\n",
       "      <td>0.013267</td>\n",
       "    </tr>\n",
       "    <tr>\n",
       "      <th>9</th>\n",
       "      <td>PAY_6</td>\n",
       "      <td>0.012679</td>\n",
       "    </tr>\n",
       "  </tbody>\n",
       "</table>\n",
       "</div>"
      ],
      "text/plain": [
       "        Feature  Importance\n",
       "4         PAY_1    0.082328\n",
       "0     LIMIT_BAL    0.044026\n",
       "2           AGE    0.041262\n",
       "32    AVG_EXP_1    0.040091\n",
       "10    BILL_AMT1    0.037037\n",
       "16     PAY_AMT1    0.036818\n",
       "31    AVG_EXP_2    0.033365\n",
       "30    AVG_EXP_3    0.032357\n",
       "29    AVG_EXP_4    0.032049\n",
       "12    BILL_AMT3    0.031681\n",
       "11    BILL_AMT2    0.031627\n",
       "17     PAY_AMT2    0.031444\n",
       "28    AVG_EXP_5    0.031321\n",
       "22  PAY_RATIO_1    0.030129\n",
       "18     PAY_AMT3    0.029416\n",
       "21     PAY_AMT6    0.029179\n",
       "23  PAY_RATIO_2    0.029060\n",
       "14    BILL_AMT5    0.029013\n",
       "13    BILL_AMT4    0.028787\n",
       "24  PAY_RATIO_3    0.028591\n",
       "27  PAY_RATIO_6    0.028350\n",
       "5         PAY_2    0.028029\n",
       "19     PAY_AMT4    0.027424\n",
       "15    BILL_AMT6    0.027412\n",
       "25  PAY_RATIO_4    0.026892\n",
       "26  PAY_RATIO_5    0.026211\n",
       "20     PAY_AMT5    0.026009\n",
       "6         PAY_3    0.022951\n",
       "7         PAY_4    0.018204\n",
       "3       SEX_MAR    0.017403\n",
       "8         PAY_5    0.015588\n",
       "1     EDUCATION    0.013267\n",
       "9         PAY_6    0.012679"
      ]
     },
     "execution_count": 666,
     "metadata": {},
     "output_type": "execute_result"
    }
   ],
   "source": [
    "feature_importance_rfc = pd.DataFrame({\n",
    "    'Feature': X.columns,\n",
    "    'Importance': rfc.feature_importances_\n",
    "}).sort_values(by='Importance', ascending=False)\n",
    "\n",
    "# Display the feature importance\n",
    "feature_importance_rfc"
   ]
  },
  {
   "cell_type": "code",
   "execution_count": 667,
   "metadata": {},
   "outputs": [
    {
     "data": {
      "text/html": [
       "<div>\n",
       "<style scoped>\n",
       "    .dataframe tbody tr th:only-of-type {\n",
       "        vertical-align: middle;\n",
       "    }\n",
       "\n",
       "    .dataframe tbody tr th {\n",
       "        vertical-align: top;\n",
       "    }\n",
       "\n",
       "    .dataframe thead th {\n",
       "        text-align: right;\n",
       "    }\n",
       "</style>\n",
       "<table border=\"1\" class=\"dataframe\">\n",
       "  <thead>\n",
       "    <tr style=\"text-align: right;\">\n",
       "      <th></th>\n",
       "      <th>Feature</th>\n",
       "      <th>Importance</th>\n",
       "    </tr>\n",
       "  </thead>\n",
       "  <tbody>\n",
       "    <tr>\n",
       "      <th>4</th>\n",
       "      <td>PAY_1</td>\n",
       "      <td>0.236560</td>\n",
       "    </tr>\n",
       "    <tr>\n",
       "      <th>3</th>\n",
       "      <td>SEX_MAR</td>\n",
       "      <td>0.154647</td>\n",
       "    </tr>\n",
       "    <tr>\n",
       "      <th>8</th>\n",
       "      <td>PAY_5</td>\n",
       "      <td>0.124919</td>\n",
       "    </tr>\n",
       "    <tr>\n",
       "      <th>5</th>\n",
       "      <td>PAY_2</td>\n",
       "      <td>0.112187</td>\n",
       "    </tr>\n",
       "    <tr>\n",
       "      <th>1</th>\n",
       "      <td>EDUCATION</td>\n",
       "      <td>0.085190</td>\n",
       "    </tr>\n",
       "    <tr>\n",
       "      <th>7</th>\n",
       "      <td>PAY_4</td>\n",
       "      <td>0.065712</td>\n",
       "    </tr>\n",
       "    <tr>\n",
       "      <th>6</th>\n",
       "      <td>PAY_3</td>\n",
       "      <td>0.060318</td>\n",
       "    </tr>\n",
       "    <tr>\n",
       "      <th>16</th>\n",
       "      <td>PAY_AMT1</td>\n",
       "      <td>0.041448</td>\n",
       "    </tr>\n",
       "    <tr>\n",
       "      <th>9</th>\n",
       "      <td>PAY_6</td>\n",
       "      <td>0.036359</td>\n",
       "    </tr>\n",
       "    <tr>\n",
       "      <th>17</th>\n",
       "      <td>PAY_AMT2</td>\n",
       "      <td>0.034873</td>\n",
       "    </tr>\n",
       "    <tr>\n",
       "      <th>0</th>\n",
       "      <td>LIMIT_BAL</td>\n",
       "      <td>0.022461</td>\n",
       "    </tr>\n",
       "    <tr>\n",
       "      <th>19</th>\n",
       "      <td>PAY_AMT4</td>\n",
       "      <td>0.013305</td>\n",
       "    </tr>\n",
       "    <tr>\n",
       "      <th>18</th>\n",
       "      <td>PAY_AMT3</td>\n",
       "      <td>0.012023</td>\n",
       "    </tr>\n",
       "    <tr>\n",
       "      <th>11</th>\n",
       "      <td>BILL_AMT2</td>\n",
       "      <td>0.000000</td>\n",
       "    </tr>\n",
       "    <tr>\n",
       "      <th>23</th>\n",
       "      <td>PAY_RATIO_2</td>\n",
       "      <td>0.000000</td>\n",
       "    </tr>\n",
       "    <tr>\n",
       "      <th>31</th>\n",
       "      <td>AVG_EXP_2</td>\n",
       "      <td>0.000000</td>\n",
       "    </tr>\n",
       "    <tr>\n",
       "      <th>30</th>\n",
       "      <td>AVG_EXP_3</td>\n",
       "      <td>0.000000</td>\n",
       "    </tr>\n",
       "    <tr>\n",
       "      <th>29</th>\n",
       "      <td>AVG_EXP_4</td>\n",
       "      <td>0.000000</td>\n",
       "    </tr>\n",
       "    <tr>\n",
       "      <th>28</th>\n",
       "      <td>AVG_EXP_5</td>\n",
       "      <td>0.000000</td>\n",
       "    </tr>\n",
       "    <tr>\n",
       "      <th>27</th>\n",
       "      <td>PAY_RATIO_6</td>\n",
       "      <td>0.000000</td>\n",
       "    </tr>\n",
       "    <tr>\n",
       "      <th>26</th>\n",
       "      <td>PAY_RATIO_5</td>\n",
       "      <td>0.000000</td>\n",
       "    </tr>\n",
       "    <tr>\n",
       "      <th>25</th>\n",
       "      <td>PAY_RATIO_4</td>\n",
       "      <td>0.000000</td>\n",
       "    </tr>\n",
       "    <tr>\n",
       "      <th>24</th>\n",
       "      <td>PAY_RATIO_3</td>\n",
       "      <td>0.000000</td>\n",
       "    </tr>\n",
       "    <tr>\n",
       "      <th>22</th>\n",
       "      <td>PAY_RATIO_1</td>\n",
       "      <td>0.000000</td>\n",
       "    </tr>\n",
       "    <tr>\n",
       "      <th>12</th>\n",
       "      <td>BILL_AMT3</td>\n",
       "      <td>0.000000</td>\n",
       "    </tr>\n",
       "    <tr>\n",
       "      <th>21</th>\n",
       "      <td>PAY_AMT6</td>\n",
       "      <td>0.000000</td>\n",
       "    </tr>\n",
       "    <tr>\n",
       "      <th>20</th>\n",
       "      <td>PAY_AMT5</td>\n",
       "      <td>0.000000</td>\n",
       "    </tr>\n",
       "    <tr>\n",
       "      <th>2</th>\n",
       "      <td>AGE</td>\n",
       "      <td>0.000000</td>\n",
       "    </tr>\n",
       "    <tr>\n",
       "      <th>10</th>\n",
       "      <td>BILL_AMT1</td>\n",
       "      <td>0.000000</td>\n",
       "    </tr>\n",
       "    <tr>\n",
       "      <th>15</th>\n",
       "      <td>BILL_AMT6</td>\n",
       "      <td>0.000000</td>\n",
       "    </tr>\n",
       "    <tr>\n",
       "      <th>14</th>\n",
       "      <td>BILL_AMT5</td>\n",
       "      <td>0.000000</td>\n",
       "    </tr>\n",
       "    <tr>\n",
       "      <th>13</th>\n",
       "      <td>BILL_AMT4</td>\n",
       "      <td>0.000000</td>\n",
       "    </tr>\n",
       "    <tr>\n",
       "      <th>32</th>\n",
       "      <td>AVG_EXP_1</td>\n",
       "      <td>0.000000</td>\n",
       "    </tr>\n",
       "  </tbody>\n",
       "</table>\n",
       "</div>"
      ],
      "text/plain": [
       "        Feature  Importance\n",
       "4         PAY_1    0.236560\n",
       "3       SEX_MAR    0.154647\n",
       "8         PAY_5    0.124919\n",
       "5         PAY_2    0.112187\n",
       "1     EDUCATION    0.085190\n",
       "7         PAY_4    0.065712\n",
       "6         PAY_3    0.060318\n",
       "16     PAY_AMT1    0.041448\n",
       "9         PAY_6    0.036359\n",
       "17     PAY_AMT2    0.034873\n",
       "0     LIMIT_BAL    0.022461\n",
       "19     PAY_AMT4    0.013305\n",
       "18     PAY_AMT3    0.012023\n",
       "11    BILL_AMT2    0.000000\n",
       "23  PAY_RATIO_2    0.000000\n",
       "31    AVG_EXP_2    0.000000\n",
       "30    AVG_EXP_3    0.000000\n",
       "29    AVG_EXP_4    0.000000\n",
       "28    AVG_EXP_5    0.000000\n",
       "27  PAY_RATIO_6    0.000000\n",
       "26  PAY_RATIO_5    0.000000\n",
       "25  PAY_RATIO_4    0.000000\n",
       "24  PAY_RATIO_3    0.000000\n",
       "22  PAY_RATIO_1    0.000000\n",
       "12    BILL_AMT3    0.000000\n",
       "21     PAY_AMT6    0.000000\n",
       "20     PAY_AMT5    0.000000\n",
       "2           AGE    0.000000\n",
       "10    BILL_AMT1    0.000000\n",
       "15    BILL_AMT6    0.000000\n",
       "14    BILL_AMT5    0.000000\n",
       "13    BILL_AMT4    0.000000\n",
       "32    AVG_EXP_1    0.000000"
      ]
     },
     "execution_count": 667,
     "metadata": {},
     "output_type": "execute_result"
    }
   ],
   "source": [
    "feature_importance_abc = pd.DataFrame({\n",
    "    'Feature': X.columns,\n",
    "    'Importance': abc.feature_importances_\n",
    "}).sort_values(by='Importance', ascending=False)\n",
    "\n",
    "# Display the feature importance\n",
    "feature_importance_abc"
   ]
  },
  {
   "cell_type": "code",
   "execution_count": 668,
   "metadata": {},
   "outputs": [
    {
     "data": {
      "text/html": [
       "<div>\n",
       "<style scoped>\n",
       "    .dataframe tbody tr th:only-of-type {\n",
       "        vertical-align: middle;\n",
       "    }\n",
       "\n",
       "    .dataframe tbody tr th {\n",
       "        vertical-align: top;\n",
       "    }\n",
       "\n",
       "    .dataframe thead th {\n",
       "        text-align: right;\n",
       "    }\n",
       "</style>\n",
       "<table border=\"1\" class=\"dataframe\">\n",
       "  <thead>\n",
       "    <tr style=\"text-align: right;\">\n",
       "      <th></th>\n",
       "      <th>Feature</th>\n",
       "      <th>Importance</th>\n",
       "    </tr>\n",
       "  </thead>\n",
       "  <tbody>\n",
       "    <tr>\n",
       "      <th>4</th>\n",
       "      <td>PAY_1</td>\n",
       "      <td>0.197596</td>\n",
       "    </tr>\n",
       "    <tr>\n",
       "      <th>5</th>\n",
       "      <td>PAY_2</td>\n",
       "      <td>0.163996</td>\n",
       "    </tr>\n",
       "    <tr>\n",
       "      <th>3</th>\n",
       "      <td>SEX_MAR</td>\n",
       "      <td>0.135734</td>\n",
       "    </tr>\n",
       "    <tr>\n",
       "      <th>10</th>\n",
       "      <td>BILL_AMT1</td>\n",
       "      <td>0.067741</td>\n",
       "    </tr>\n",
       "    <tr>\n",
       "      <th>6</th>\n",
       "      <td>PAY_3</td>\n",
       "      <td>0.049886</td>\n",
       "    </tr>\n",
       "    <tr>\n",
       "      <th>1</th>\n",
       "      <td>EDUCATION</td>\n",
       "      <td>0.048341</td>\n",
       "    </tr>\n",
       "    <tr>\n",
       "      <th>16</th>\n",
       "      <td>PAY_AMT1</td>\n",
       "      <td>0.043923</td>\n",
       "    </tr>\n",
       "    <tr>\n",
       "      <th>0</th>\n",
       "      <td>LIMIT_BAL</td>\n",
       "      <td>0.036282</td>\n",
       "    </tr>\n",
       "    <tr>\n",
       "      <th>7</th>\n",
       "      <td>PAY_4</td>\n",
       "      <td>0.026539</td>\n",
       "    </tr>\n",
       "    <tr>\n",
       "      <th>8</th>\n",
       "      <td>PAY_5</td>\n",
       "      <td>0.026040</td>\n",
       "    </tr>\n",
       "    <tr>\n",
       "      <th>17</th>\n",
       "      <td>PAY_AMT2</td>\n",
       "      <td>0.021687</td>\n",
       "    </tr>\n",
       "    <tr>\n",
       "      <th>19</th>\n",
       "      <td>PAY_AMT4</td>\n",
       "      <td>0.016943</td>\n",
       "    </tr>\n",
       "    <tr>\n",
       "      <th>18</th>\n",
       "      <td>PAY_AMT3</td>\n",
       "      <td>0.014964</td>\n",
       "    </tr>\n",
       "    <tr>\n",
       "      <th>32</th>\n",
       "      <td>AVG_EXP_1</td>\n",
       "      <td>0.014477</td>\n",
       "    </tr>\n",
       "    <tr>\n",
       "      <th>22</th>\n",
       "      <td>PAY_RATIO_1</td>\n",
       "      <td>0.014381</td>\n",
       "    </tr>\n",
       "    <tr>\n",
       "      <th>9</th>\n",
       "      <td>PAY_6</td>\n",
       "      <td>0.014008</td>\n",
       "    </tr>\n",
       "    <tr>\n",
       "      <th>21</th>\n",
       "      <td>PAY_AMT6</td>\n",
       "      <td>0.012594</td>\n",
       "    </tr>\n",
       "    <tr>\n",
       "      <th>11</th>\n",
       "      <td>BILL_AMT2</td>\n",
       "      <td>0.011858</td>\n",
       "    </tr>\n",
       "    <tr>\n",
       "      <th>24</th>\n",
       "      <td>PAY_RATIO_3</td>\n",
       "      <td>0.011479</td>\n",
       "    </tr>\n",
       "    <tr>\n",
       "      <th>20</th>\n",
       "      <td>PAY_AMT5</td>\n",
       "      <td>0.010462</td>\n",
       "    </tr>\n",
       "    <tr>\n",
       "      <th>27</th>\n",
       "      <td>PAY_RATIO_6</td>\n",
       "      <td>0.008955</td>\n",
       "    </tr>\n",
       "    <tr>\n",
       "      <th>23</th>\n",
       "      <td>PAY_RATIO_2</td>\n",
       "      <td>0.007946</td>\n",
       "    </tr>\n",
       "    <tr>\n",
       "      <th>2</th>\n",
       "      <td>AGE</td>\n",
       "      <td>0.006778</td>\n",
       "    </tr>\n",
       "    <tr>\n",
       "      <th>15</th>\n",
       "      <td>BILL_AMT6</td>\n",
       "      <td>0.005505</td>\n",
       "    </tr>\n",
       "    <tr>\n",
       "      <th>12</th>\n",
       "      <td>BILL_AMT3</td>\n",
       "      <td>0.005222</td>\n",
       "    </tr>\n",
       "    <tr>\n",
       "      <th>26</th>\n",
       "      <td>PAY_RATIO_5</td>\n",
       "      <td>0.004945</td>\n",
       "    </tr>\n",
       "    <tr>\n",
       "      <th>25</th>\n",
       "      <td>PAY_RATIO_4</td>\n",
       "      <td>0.004806</td>\n",
       "    </tr>\n",
       "    <tr>\n",
       "      <th>14</th>\n",
       "      <td>BILL_AMT5</td>\n",
       "      <td>0.004275</td>\n",
       "    </tr>\n",
       "    <tr>\n",
       "      <th>13</th>\n",
       "      <td>BILL_AMT4</td>\n",
       "      <td>0.004104</td>\n",
       "    </tr>\n",
       "    <tr>\n",
       "      <th>31</th>\n",
       "      <td>AVG_EXP_2</td>\n",
       "      <td>0.003964</td>\n",
       "    </tr>\n",
       "    <tr>\n",
       "      <th>30</th>\n",
       "      <td>AVG_EXP_3</td>\n",
       "      <td>0.002683</td>\n",
       "    </tr>\n",
       "    <tr>\n",
       "      <th>28</th>\n",
       "      <td>AVG_EXP_5</td>\n",
       "      <td>0.001066</td>\n",
       "    </tr>\n",
       "    <tr>\n",
       "      <th>29</th>\n",
       "      <td>AVG_EXP_4</td>\n",
       "      <td>0.000819</td>\n",
       "    </tr>\n",
       "  </tbody>\n",
       "</table>\n",
       "</div>"
      ],
      "text/plain": [
       "        Feature  Importance\n",
       "4         PAY_1    0.197596\n",
       "5         PAY_2    0.163996\n",
       "3       SEX_MAR    0.135734\n",
       "10    BILL_AMT1    0.067741\n",
       "6         PAY_3    0.049886\n",
       "1     EDUCATION    0.048341\n",
       "16     PAY_AMT1    0.043923\n",
       "0     LIMIT_BAL    0.036282\n",
       "7         PAY_4    0.026539\n",
       "8         PAY_5    0.026040\n",
       "17     PAY_AMT2    0.021687\n",
       "19     PAY_AMT4    0.016943\n",
       "18     PAY_AMT3    0.014964\n",
       "32    AVG_EXP_1    0.014477\n",
       "22  PAY_RATIO_1    0.014381\n",
       "9         PAY_6    0.014008\n",
       "21     PAY_AMT6    0.012594\n",
       "11    BILL_AMT2    0.011858\n",
       "24  PAY_RATIO_3    0.011479\n",
       "20     PAY_AMT5    0.010462\n",
       "27  PAY_RATIO_6    0.008955\n",
       "23  PAY_RATIO_2    0.007946\n",
       "2           AGE    0.006778\n",
       "15    BILL_AMT6    0.005505\n",
       "12    BILL_AMT3    0.005222\n",
       "26  PAY_RATIO_5    0.004945\n",
       "25  PAY_RATIO_4    0.004806\n",
       "14    BILL_AMT5    0.004275\n",
       "13    BILL_AMT4    0.004104\n",
       "31    AVG_EXP_2    0.003964\n",
       "30    AVG_EXP_3    0.002683\n",
       "28    AVG_EXP_5    0.001066\n",
       "29    AVG_EXP_4    0.000819"
      ]
     },
     "execution_count": 668,
     "metadata": {},
     "output_type": "execute_result"
    }
   ],
   "source": [
    "feature_importance_gbm = pd.DataFrame({\n",
    "    'Feature': X.columns,\n",
    "    'Importance': gbm.feature_importances_\n",
    "}).sort_values(by='Importance', ascending=False)\n",
    "\n",
    "# Display the feature importance\n",
    "feature_importance_gbm"
   ]
  },
  {
   "cell_type": "code",
   "execution_count": 669,
   "metadata": {},
   "outputs": [
    {
     "data": {
      "text/html": [
       "<div>\n",
       "<style scoped>\n",
       "    .dataframe tbody tr th:only-of-type {\n",
       "        vertical-align: middle;\n",
       "    }\n",
       "\n",
       "    .dataframe tbody tr th {\n",
       "        vertical-align: top;\n",
       "    }\n",
       "\n",
       "    .dataframe thead th {\n",
       "        text-align: right;\n",
       "    }\n",
       "</style>\n",
       "<table border=\"1\" class=\"dataframe\">\n",
       "  <thead>\n",
       "    <tr style=\"text-align: right;\">\n",
       "      <th></th>\n",
       "      <th>Feature</th>\n",
       "      <th>Importance</th>\n",
       "    </tr>\n",
       "  </thead>\n",
       "  <tbody>\n",
       "    <tr>\n",
       "      <th>0</th>\n",
       "      <td>LIMIT_BAL</td>\n",
       "      <td>221</td>\n",
       "    </tr>\n",
       "    <tr>\n",
       "      <th>17</th>\n",
       "      <td>PAY_AMT2</td>\n",
       "      <td>144</td>\n",
       "    </tr>\n",
       "    <tr>\n",
       "      <th>10</th>\n",
       "      <td>BILL_AMT1</td>\n",
       "      <td>138</td>\n",
       "    </tr>\n",
       "    <tr>\n",
       "      <th>16</th>\n",
       "      <td>PAY_AMT1</td>\n",
       "      <td>127</td>\n",
       "    </tr>\n",
       "    <tr>\n",
       "      <th>2</th>\n",
       "      <td>AGE</td>\n",
       "      <td>127</td>\n",
       "    </tr>\n",
       "    <tr>\n",
       "      <th>3</th>\n",
       "      <td>SEX_MAR</td>\n",
       "      <td>123</td>\n",
       "    </tr>\n",
       "    <tr>\n",
       "      <th>18</th>\n",
       "      <td>PAY_AMT3</td>\n",
       "      <td>112</td>\n",
       "    </tr>\n",
       "    <tr>\n",
       "      <th>32</th>\n",
       "      <td>AVG_EXP_1</td>\n",
       "      <td>109</td>\n",
       "    </tr>\n",
       "    <tr>\n",
       "      <th>27</th>\n",
       "      <td>PAY_RATIO_6</td>\n",
       "      <td>108</td>\n",
       "    </tr>\n",
       "    <tr>\n",
       "      <th>21</th>\n",
       "      <td>PAY_AMT6</td>\n",
       "      <td>107</td>\n",
       "    </tr>\n",
       "    <tr>\n",
       "      <th>19</th>\n",
       "      <td>PAY_AMT4</td>\n",
       "      <td>100</td>\n",
       "    </tr>\n",
       "    <tr>\n",
       "      <th>22</th>\n",
       "      <td>PAY_RATIO_1</td>\n",
       "      <td>98</td>\n",
       "    </tr>\n",
       "    <tr>\n",
       "      <th>20</th>\n",
       "      <td>PAY_AMT5</td>\n",
       "      <td>97</td>\n",
       "    </tr>\n",
       "    <tr>\n",
       "      <th>23</th>\n",
       "      <td>PAY_RATIO_2</td>\n",
       "      <td>97</td>\n",
       "    </tr>\n",
       "    <tr>\n",
       "      <th>24</th>\n",
       "      <td>PAY_RATIO_3</td>\n",
       "      <td>95</td>\n",
       "    </tr>\n",
       "    <tr>\n",
       "      <th>25</th>\n",
       "      <td>PAY_RATIO_4</td>\n",
       "      <td>92</td>\n",
       "    </tr>\n",
       "    <tr>\n",
       "      <th>1</th>\n",
       "      <td>EDUCATION</td>\n",
       "      <td>92</td>\n",
       "    </tr>\n",
       "    <tr>\n",
       "      <th>26</th>\n",
       "      <td>PAY_RATIO_5</td>\n",
       "      <td>88</td>\n",
       "    </tr>\n",
       "    <tr>\n",
       "      <th>12</th>\n",
       "      <td>BILL_AMT3</td>\n",
       "      <td>84</td>\n",
       "    </tr>\n",
       "    <tr>\n",
       "      <th>11</th>\n",
       "      <td>BILL_AMT2</td>\n",
       "      <td>80</td>\n",
       "    </tr>\n",
       "    <tr>\n",
       "      <th>4</th>\n",
       "      <td>PAY_1</td>\n",
       "      <td>78</td>\n",
       "    </tr>\n",
       "    <tr>\n",
       "      <th>15</th>\n",
       "      <td>BILL_AMT6</td>\n",
       "      <td>77</td>\n",
       "    </tr>\n",
       "    <tr>\n",
       "      <th>28</th>\n",
       "      <td>AVG_EXP_5</td>\n",
       "      <td>76</td>\n",
       "    </tr>\n",
       "    <tr>\n",
       "      <th>31</th>\n",
       "      <td>AVG_EXP_2</td>\n",
       "      <td>76</td>\n",
       "    </tr>\n",
       "    <tr>\n",
       "      <th>29</th>\n",
       "      <td>AVG_EXP_4</td>\n",
       "      <td>75</td>\n",
       "    </tr>\n",
       "    <tr>\n",
       "      <th>14</th>\n",
       "      <td>BILL_AMT5</td>\n",
       "      <td>71</td>\n",
       "    </tr>\n",
       "    <tr>\n",
       "      <th>13</th>\n",
       "      <td>BILL_AMT4</td>\n",
       "      <td>67</td>\n",
       "    </tr>\n",
       "    <tr>\n",
       "      <th>30</th>\n",
       "      <td>AVG_EXP_3</td>\n",
       "      <td>62</td>\n",
       "    </tr>\n",
       "    <tr>\n",
       "      <th>5</th>\n",
       "      <td>PAY_2</td>\n",
       "      <td>46</td>\n",
       "    </tr>\n",
       "    <tr>\n",
       "      <th>8</th>\n",
       "      <td>PAY_5</td>\n",
       "      <td>38</td>\n",
       "    </tr>\n",
       "    <tr>\n",
       "      <th>7</th>\n",
       "      <td>PAY_4</td>\n",
       "      <td>36</td>\n",
       "    </tr>\n",
       "    <tr>\n",
       "      <th>6</th>\n",
       "      <td>PAY_3</td>\n",
       "      <td>31</td>\n",
       "    </tr>\n",
       "    <tr>\n",
       "      <th>9</th>\n",
       "      <td>PAY_6</td>\n",
       "      <td>28</td>\n",
       "    </tr>\n",
       "  </tbody>\n",
       "</table>\n",
       "</div>"
      ],
      "text/plain": [
       "        Feature  Importance\n",
       "0     LIMIT_BAL         221\n",
       "17     PAY_AMT2         144\n",
       "10    BILL_AMT1         138\n",
       "16     PAY_AMT1         127\n",
       "2           AGE         127\n",
       "3       SEX_MAR         123\n",
       "18     PAY_AMT3         112\n",
       "32    AVG_EXP_1         109\n",
       "27  PAY_RATIO_6         108\n",
       "21     PAY_AMT6         107\n",
       "19     PAY_AMT4         100\n",
       "22  PAY_RATIO_1          98\n",
       "20     PAY_AMT5          97\n",
       "23  PAY_RATIO_2          97\n",
       "24  PAY_RATIO_3          95\n",
       "25  PAY_RATIO_4          92\n",
       "1     EDUCATION          92\n",
       "26  PAY_RATIO_5          88\n",
       "12    BILL_AMT3          84\n",
       "11    BILL_AMT2          80\n",
       "4         PAY_1          78\n",
       "15    BILL_AMT6          77\n",
       "28    AVG_EXP_5          76\n",
       "31    AVG_EXP_2          76\n",
       "29    AVG_EXP_4          75\n",
       "14    BILL_AMT5          71\n",
       "13    BILL_AMT4          67\n",
       "30    AVG_EXP_3          62\n",
       "5         PAY_2          46\n",
       "8         PAY_5          38\n",
       "7         PAY_4          36\n",
       "6         PAY_3          31\n",
       "9         PAY_6          28"
      ]
     },
     "execution_count": 669,
     "metadata": {},
     "output_type": "execute_result"
    }
   ],
   "source": [
    "feature_importance_lgbm = pd.DataFrame({\n",
    "    'Feature': X.columns,\n",
    "    'Importance': lgbm.feature_importances_\n",
    "}).sort_values(by='Importance', ascending=False)\n",
    "\n",
    "# Display the feature importance\n",
    "feature_importance_lgbm"
   ]
  },
  {
   "cell_type": "code",
   "execution_count": null,
   "metadata": {},
   "outputs": [],
   "source": []
  },
  {
   "cell_type": "code",
   "execution_count": null,
   "metadata": {},
   "outputs": [],
   "source": []
  }
 ],
 "metadata": {
  "kernelspec": {
   "display_name": "Python 3",
   "language": "python",
   "name": "python3"
  },
  "language_info": {
   "codemirror_mode": {
    "name": "ipython",
    "version": 3
   },
   "file_extension": ".py",
   "mimetype": "text/x-python",
   "name": "python",
   "nbconvert_exporter": "python",
   "pygments_lexer": "ipython3",
   "version": "3.13.3"
  }
 },
 "nbformat": 4,
 "nbformat_minor": 2
}
